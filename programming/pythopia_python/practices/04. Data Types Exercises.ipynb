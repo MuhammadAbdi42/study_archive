{
 "cells": [
  {
   "cell_type": "markdown",
   "id": "f1b8759e",
   "metadata": {},
   "source": [
    "## **04. Data Types** "
   ]
  },
  {
   "cell_type": "markdown",
   "id": "3a761d4e",
   "metadata": {},
   "source": [
    "### **- 02. Variables**"
   ]
  },
  {
   "cell_type": "markdown",
   "id": "38c05c8f",
   "metadata": {},
   "source": [
    "1. **Simple Assignment**\n",
    "   - Create a variable named `fruit` and assign it the value \"apple\".\n",
    "   - Print the value of `fruit`.\n",
    "   - Change the value of `fruit` to \"banana\" and print it again."
   ]
  },
  {
   "cell_type": "code",
   "execution_count": 1,
   "id": "fd3f0718",
   "metadata": {},
   "outputs": [
    {
     "name": "stdout",
     "output_type": "stream",
     "text": [
      "apple\n",
      "banana\n"
     ]
    }
   ],
   "source": [
    "fruit = \"apple\"\n",
    "print(fruit)\n",
    "\n",
    "fruit = \"banana\"\n",
    "print(fruit)"
   ]
  },
  {
   "cell_type": "markdown",
   "id": "8cc472eb",
   "metadata": {},
   "source": [
    "2. **Using Constants**\n",
    "   - Make a constant named `MAX_SCORE` and set its value to 100.\n",
    "   - Try to change the value of `MAX_SCORE` to 90 and see what happens. Can you change it? Why?"
   ]
  },
  {
   "cell_type": "code",
   "execution_count": null,
   "id": "d7f6031f",
   "metadata": {},
   "outputs": [
    {
     "name": "stdout",
     "output_type": "stream",
     "text": [
      "100\n",
      "90\n"
     ]
    }
   ],
   "source": [
    "MAX_SCORE = 100\n",
    "print(MAX_SCORE)\n",
    "MAX_SCORE = 90\n",
    "print(MAX_SCORE) # Python doesn't support constant data types"
   ]
  },
  {
   "cell_type": "markdown",
   "id": "930e2e06",
   "metadata": {},
   "source": [
    "3. **Variable Names**\n",
    "   - Create three variables: `myAge`, `my_name`, and `MyHeight`.\n",
    "   - Assign any values to these variables and print them."
   ]
  },
  {
   "cell_type": "code",
   "execution_count": null,
   "id": "7df635e3",
   "metadata": {},
   "outputs": [
    {
     "name": "stdout",
     "output_type": "stream",
     "text": [
      "I'm Muhammad, 20 years old and my height is 185\n"
     ]
    }
   ],
   "source": [
    "myAge = 20; my_name = \"Muhammad\"; MyHeight = 185\n",
    "print(f\"I'm {my_name}, {myAge} years old and my height is {MyHeight}\")"
   ]
  },
  {
   "cell_type": "markdown",
   "id": "7cc8bc7f",
   "metadata": {},
   "source": [
    "4. **Reserved Keywords**\n",
    "   - Try to create a variable with the name `while`. What happens?\n",
    "   - Rename the variable to something that's not a reserved keyword and print its value."
   ]
  },
  {
   "cell_type": "code",
   "execution_count": null,
   "id": "5f979f25",
   "metadata": {},
   "outputs": [
    {
     "ename": "SyntaxError",
     "evalue": "invalid syntax (835767674.py, line 5)",
     "output_type": "error",
     "traceback": [
      "  \u001b[36mCell\u001b[39m\u001b[36m \u001b[39m\u001b[32mIn[33]\u001b[39m\u001b[32m, line 5\u001b[39m\n\u001b[31m    \u001b[39m\u001b[31mwhile = 20 # while is a reserved keyword and cannot be assigned as a variable name\u001b[39m\n          ^\n\u001b[31mSyntaxError\u001b[39m\u001b[31m:\u001b[39m invalid syntax\n"
     ]
    }
   ],
   "source": [
    "while = 20 # while is a reserved keyword and cannot be assigned as a variable name "
   ]
  },
  {
   "cell_type": "markdown",
   "id": "be5a7ba6",
   "metadata": {},
   "source": [
    "5. **Multiple Assignments**\n",
    "   - Assign values to three variables `x`, `y`, and `z` in a single line.\n",
    "   - Print the values of `x`, `y`, and `z`."
   ]
  },
  {
   "cell_type": "code",
   "execution_count": null,
   "id": "a4bac3df",
   "metadata": {},
   "outputs": [
    {
     "name": "stdout",
     "output_type": "stream",
     "text": [
      "2 -1 0\n"
     ]
    }
   ],
   "source": [
    "x = 2; y = -1; z = 0\n",
    "print(x,y,z)"
   ]
  },
  {
   "cell_type": "markdown",
   "id": "b5efbeb7",
   "metadata": {},
   "source": [
    "### **- 15. Common List Operations**"
   ]
  },
  {
   "cell_type": "markdown",
   "id": "dee1ef6a",
   "metadata": {},
   "source": [
    "1. **Create and Modify List**\n",
    "    - Create a list named `colors` containing 'red', 'green', 'blue', and 'yellow'. Then, change 'blue' to 'aqua' and append a new color, 'purple', to the list."
   ]
  },
  {
   "cell_type": "code",
   "execution_count": 35,
   "id": "ef4d2d21",
   "metadata": {},
   "outputs": [
    {
     "name": "stdout",
     "output_type": "stream",
     "text": [
      "['red', 'green', 'aqua', 'yellow', 'purple']\n"
     ]
    }
   ],
   "source": [
    "colors = ['red', 'green', 'blue', 'yellow']\n",
    "colors[colors.index('blue')] = 'aqua'\n",
    "colors.append('purple')\n",
    "\n",
    "print(colors)"
   ]
  },
  {
   "cell_type": "markdown",
   "id": "dc60238c",
   "metadata": {},
   "source": [
    "2. **Access and Slice**\n",
    "    - Given the list `nums = [0, 1, 2, 3, 4, 5, 6, 7, 8, 9]`, access and print the fifth element in `nums`, and create a slice of `nums` that contains only the even numbers."
   ]
  },
  {
   "cell_type": "code",
   "execution_count": 36,
   "id": "6b3977c2",
   "metadata": {},
   "outputs": [
    {
     "name": "stdout",
     "output_type": "stream",
     "text": [
      "5\n",
      "[0, 2, 4, 6, 8]\n"
     ]
    }
   ],
   "source": [
    "nums = [0, 1, 2, 3, 4, 5, 6, 7, 8, 9]\n",
    "print(nums[5])\n",
    "even_nums = nums[::2]\n",
    "print(even_nums)"
   ]
  },
  {
   "cell_type": "markdown",
   "id": "2d778633",
   "metadata": {},
   "source": [
    "3. **List Membership Testing**\n",
    "    - Create a list containing your five favorite food items, then write a small script that checks if 'pizza' is among your favorites and prints an appropriate message whether it is found or not.\n"
   ]
  },
  {
   "cell_type": "code",
   "execution_count": 37,
   "id": "1f3869b8",
   "metadata": {},
   "outputs": [
    {
     "name": "stdout",
     "output_type": "stream",
     "text": [
      "You love pizza.\n"
     ]
    }
   ],
   "source": [
    "favorite_foods = ['Pizza', 'Burger', 'Spagethi', 'Kebab', 'Fish']\n",
    "if 'Pizza' in favorite_foods:\n",
    "    print('You love pizza.')\n",
    "else:\n",
    "    print('You don\\'t love pizza')"
   ]
  },
  {
   "cell_type": "markdown",
   "id": "0cae2b98",
   "metadata": {},
   "source": [
    "4. **Concatenation and Repetition**\n",
    "    - Concatenate the following two lists `list_a = [1, 2, 3]` and `list_b = [4, 5, 6]` and create a third list that contains three repetitions of the concatenated list.\n"
   ]
  },
  {
   "cell_type": "code",
   "execution_count": 38,
   "id": "473f5260",
   "metadata": {},
   "outputs": [
    {
     "name": "stdout",
     "output_type": "stream",
     "text": [
      "[1, 2, 3, 4, 5, 6, 1, 2, 3, 4, 5, 6, 1, 2, 3, 4, 5, 6]\n"
     ]
    }
   ],
   "source": [
    "list_a = [1, 2, 3]\n",
    "list_b = [4, 5, 6]\n",
    "list_c = (list_a + list_b) * 3\n",
    "print(list_c)"
   ]
  },
  {
   "cell_type": "markdown",
   "id": "f74a661d",
   "metadata": {},
   "source": [
    "### **- 18. Accessing and Modifying Dictionary**"
   ]
  },
  {
   "cell_type": "markdown",
   "id": "8b372262",
   "metadata": {},
   "source": [
    "1. **Create a Dictionary**:\n",
    "   - Instantiate a dictionary `book_genre` that maps book titles to their respective genres. Add at least three key-value pairs to it.\n",
    "   - Example: One pair could be \"To Kill a Mockingbird\": \"Classic Fiction\"."
   ]
  },
  {
   "cell_type": "code",
   "execution_count": 48,
   "id": "aaee0daa",
   "metadata": {},
   "outputs": [],
   "source": [
    "book_genre = {\n",
    "    \"To Kill a Mockingbird\": \"Classic Fiction\",\n",
    "    \"Shahnameh\": \"Mythology\",\n",
    "    \"Sapiens\": \"History\"\n",
    "}"
   ]
  },
  {
   "cell_type": "markdown",
   "id": "3889536e",
   "metadata": {},
   "source": [
    "2. **Retrieve and Print**:\n",
    "   - Given the `book_genre` dictionary, print the genre of \"To Kill a Mockingbird\". What happens if you try to print the genre of a book not present in your dictionary?"
   ]
  },
  {
   "cell_type": "code",
   "execution_count": 49,
   "id": "08ebb7e7",
   "metadata": {},
   "outputs": [
    {
     "ename": "KeyError",
     "evalue": "'The Great Gatsby'",
     "output_type": "error",
     "traceback": [
      "\u001b[31m---------------------------------------------------------------------------\u001b[39m",
      "\u001b[31mKeyError\u001b[39m                                  Traceback (most recent call last)",
      "\u001b[36mCell\u001b[39m\u001b[36m \u001b[39m\u001b[32mIn[49]\u001b[39m\u001b[32m, line 1\u001b[39m\n\u001b[32m----> \u001b[39m\u001b[32m1\u001b[39m \u001b[38;5;28mprint\u001b[39m(book_genre[\u001b[33m\"\u001b[39m\u001b[33mThe Great Gatsby\u001b[39m\u001b[33m\"\u001b[39m])\n",
      "\u001b[31mKeyError\u001b[39m: 'The Great Gatsby'"
     ]
    }
   ],
   "source": [
    "print(book_genre[\"The Great Gatsby\"]) # Throws an error"
   ]
  },
  {
   "cell_type": "markdown",
   "id": "8ab4aa11",
   "metadata": {},
   "source": [
    "3. **Updating Dictionary Values**:\n",
    "   - For the `book_genre` dictionary, update the genre of one of your books to \"Literary Fiction\".\n",
    "   - Add a new book and its genre to the dictionary."
   ]
  },
  {
   "cell_type": "code",
   "execution_count": 50,
   "id": "a05047b2",
   "metadata": {},
   "outputs": [],
   "source": [
    "book_genre[\"Shahnameh\"] = \"Literary Fiction\"\n",
    "book_genre[\"Hamlet\"] = \"Play\""
   ]
  },
  {
   "cell_type": "markdown",
   "id": "4e74751f",
   "metadata": {},
   "source": [
    "4. **Remove Items**:\n",
    "   - From the `book_genre` dictionary, remove a book of your choice using the `pop()` method and display the removed genre.\n",
    "   - Use the `del` statement to remove another book. Try using the `del` statement with a non-existent key and handle the `KeyError` with a try-except block."
   ]
  },
  {
   "cell_type": "code",
   "execution_count": 51,
   "id": "f9681d40",
   "metadata": {},
   "outputs": [
    {
     "name": "stdout",
     "output_type": "stream",
     "text": [
      "Play\n",
      "Farewell to Arms doesn't exist in the library\n"
     ]
    }
   ],
   "source": [
    "print(book_genre.pop(\"Hamlet\"))\n",
    "del book_genre[\"Shahnameh\"]\n",
    "print(book_genre.pop(\"Farewell to Arms\", \"Farewell to Arms doesn't exist in the library\"))"
   ]
  },
  {
   "cell_type": "markdown",
   "id": "3ff95308",
   "metadata": {},
   "source": [
    "5. **Iterating Over a Dictionary**:\n",
    "   - Create and print a list of all book titles (keys) in the `book_genre` dictionary.\n",
    "   - Create and print a list of all genres (values) in the `book_genre` dictionary without any duplicates."
   ]
  },
  {
   "cell_type": "code",
   "execution_count": 52,
   "id": "7937b35d",
   "metadata": {},
   "outputs": [
    {
     "name": "stdout",
     "output_type": "stream",
     "text": [
      "dict_keys(['To Kill a Mockingbird', 'Shahnameh', 'Sapiens', 'Hamlet', 'Farewell To Arms', 'The Great Gatsby'])\n",
      "{'Novel', 'Classic Fiction', 'History', 'Mythology', 'Play'}\n"
     ]
    }
   ],
   "source": [
    "book_genre = {\n",
    "    \"To Kill a Mockingbird\": \"Classic Fiction\",\n",
    "    \"Shahnameh\": \"Mythology\",\n",
    "    \"Sapiens\": \"History\",\n",
    "    \"Hamlet\": \"Play\",\n",
    "    \"Farewell To Arms\": \"Novel\",\n",
    "    \"The Great Gatsby\": \"Novel\"\n",
    "}\n",
    "\n",
    "print(book_genre.keys())\n",
    "print(set(book_genre.values()))"
   ]
  },
  {
   "cell_type": "markdown",
   "id": "9393cf50",
   "metadata": {},
   "source": [
    "6. **Dictionary Comprehension**:\n",
    "   - Create a dictionary `squared_numbers` using dictionary comprehension that maps numbers (1-10) to their squares."
   ]
  },
  {
   "cell_type": "code",
   "execution_count": 53,
   "id": "c2aa9686",
   "metadata": {},
   "outputs": [
    {
     "name": "stdout",
     "output_type": "stream",
     "text": [
      "{1: 1, 2: 4, 3: 9, 4: 16, 5: 25, 6: 36, 7: 49, 8: 64, 9: 81, 10: 100}\n"
     ]
    }
   ],
   "source": [
    "squared_numbers = {x:x**2 for x in range(1,11)}\n",
    "print(squared_numbers)"
   ]
  },
  {
   "cell_type": "markdown",
   "id": "5ef2e922",
   "metadata": {},
   "source": [
    "7. **Nested Dictionaries**:\n",
    "   - Create a nested dictionary `library` where each key is a genre and each value is a dictionary of books of that genre. Add at least two genres, each with at least two books."
   ]
  },
  {
   "cell_type": "code",
   "execution_count": 55,
   "id": "e759098d",
   "metadata": {},
   "outputs": [],
   "source": [
    "library = {\n",
    "    \"Novel\": {\n",
    "        \"Farewell to Arms\": \"Hemingway\",\n",
    "        \"The Great Gatsby\": \"Fitzgerald\"\n",
    "    },\n",
    "    \"Play\":{\n",
    "        \"Hamlet\": \"Shakespeare\",\n",
    "        \"Death of a Salesman\": \"Arthur Miller\"\n",
    "    }\n",
    "}"
   ]
  },
  {
   "cell_type": "markdown",
   "id": "4e19f86d",
   "metadata": {},
   "source": [
    "8. **Clearing a Dictionary**:\n",
    "   - Clear all contents of the `book_genre` dictionary and print its contents to confirm it's empty."
   ]
  },
  {
   "cell_type": "code",
   "execution_count": 56,
   "id": "ce189901",
   "metadata": {},
   "outputs": [
    {
     "name": "stdout",
     "output_type": "stream",
     "text": [
      "{}\n"
     ]
    }
   ],
   "source": [
    "library.clear()\n",
    "print(library)"
   ]
  },
  {
   "cell_type": "markdown",
   "id": "2cbd9e1a",
   "metadata": {},
   "source": [
    "### **- 19. Dictionary Manipulation and Practical Uses**"
   ]
  },
  {
   "cell_type": "markdown",
   "id": "7e99b27b",
   "metadata": {},
   "source": [
    "1. **Membership Test**:\n",
    "   - Given a dictionary `city_presence = {'New York': True, 'Berlin': True, 'Tokyo': True, 'Sydney': True}`.\n",
    "   - Determine if 'London' and 'Tokyo' are keys in `city_presence` by using membership tests."
   ]
  },
  {
   "cell_type": "code",
   "execution_count": 57,
   "id": "808d0e34",
   "metadata": {},
   "outputs": [
    {
     "name": "stdout",
     "output_type": "stream",
     "text": [
      "False\n",
      "True\n"
     ]
    }
   ],
   "source": [
    "city_presence = {'New York': True, 'Berlin': True, 'Tokyo': True, 'Sydney': True}\n",
    "print('London' in city_presence)\n",
    "print('Tokyo' in city_presence)"
   ]
  },
  {
   "cell_type": "markdown",
   "id": "4eee4055",
   "metadata": {},
   "source": [
    "2. **Default Values with `setdefault`**:\n",
    "   - Create a dictionary `student_score = {'Alice': 88, 'Bob': 95}`.\n",
    "   - Use the `setdefault` method to return 'Bob's score and insert 'Charlie' with a score of 0 if he doesn't exist in the dictionary. Display the dictionary after this operation."
   ]
  },
  {
   "cell_type": "code",
   "execution_count": 58,
   "id": "dc454ad0",
   "metadata": {},
   "outputs": [
    {
     "name": "stdout",
     "output_type": "stream",
     "text": [
      "95\n",
      "0\n"
     ]
    }
   ],
   "source": [
    "student_score = {'Alice': 88, 'Bob': 95}\n",
    "print(student_score.setdefault('Bob', 0))\n",
    "print(student_score.setdefault('Charlie', 0))"
   ]
  },
  {
   "cell_type": "markdown",
   "id": "bb24db2c",
   "metadata": {},
   "source": [
    "3. **Updating a Single Item**:\n",
    "   - Starting with the dictionary `preferences = {'color': 'blue', 'food': 'pizza', 'drink': 'water'}`.\n",
    "   - Update the value associated with the key 'drink' to 'orange juice'."
   ]
  },
  {
   "cell_type": "code",
   "execution_count": 60,
   "id": "dda7d2a7",
   "metadata": {},
   "outputs": [],
   "source": [
    "preferences = {'color': 'blue', 'food': 'pizza', 'drink': 'water'}\n",
    "preferences.update({'drink':'orange juice'})"
   ]
  },
  {
   "cell_type": "markdown",
   "id": "2a534c6a",
   "metadata": {},
   "source": [
    "4. **Dictionary Merging and Updating**:\n",
    "   - Create two dictionaries: `stock_A = {'apples': 5, 'oranges': 7}` and `stock_B = {'oranges': 12, 'bananas': 3}`.\n",
    "   - Update `stock_A` with the contents of `stock_B` and observe how the value for 'oranges' changes."
   ]
  },
  {
   "cell_type": "code",
   "execution_count": 61,
   "id": "48f3ed57",
   "metadata": {},
   "outputs": [
    {
     "name": "stdout",
     "output_type": "stream",
     "text": [
      "12\n"
     ]
    }
   ],
   "source": [
    "stock_A = {'apples': 5, 'oranges': 7}\n",
    "stock_B = {'oranges': 12, 'bananas': 3}\n",
    "stock_A.update(stock_B)\n",
    "print(stock_A['oranges'])"
   ]
  },
  {
   "cell_type": "markdown",
   "id": "687256b9",
   "metadata": {},
   "source": [
    "5. **Nested Dictionary Access**:\n",
    "   - With a nested dictionary `account_info = {'user1': {'name': 'Alice', 'password': 'alice123'}, 'user2': {'name': 'Bob', 'password': 'bobsecure'}}`, access and display the password for 'user1'."
   ]
  },
  {
   "cell_type": "code",
   "execution_count": 62,
   "id": "e05900f6",
   "metadata": {},
   "outputs": [
    {
     "name": "stdout",
     "output_type": "stream",
     "text": [
      "alice123\n"
     ]
    }
   ],
   "source": [
    "account_info = {'user1': {'name': 'Alice', 'password': 'alice123'}, 'user2': {'name': 'Bob', 'password': 'bobsecure'}}\n",
    "print(account_info['user1']['password'])"
   ]
  },
  {
   "cell_type": "markdown",
   "id": "58a99767",
   "metadata": {},
   "source": [
    "### **- 20. Sets**"
   ]
  },
  {
   "cell_type": "markdown",
   "id": "ca4faee4",
   "metadata": {},
   "source": [
    "1. **Set Creation and Membership**\n",
    "    - Create a set named `colors` that contains the colors 'red', 'green', 'blue', and 'yellow'. Verify if 'purple' is in the `colors` set. Add 'purple' to the set and check again."
   ]
  },
  {
   "cell_type": "code",
   "execution_count": 64,
   "id": "3a84a653",
   "metadata": {},
   "outputs": [
    {
     "name": "stdout",
     "output_type": "stream",
     "text": [
      "False\n",
      "True\n"
     ]
    }
   ],
   "source": [
    "colors = {'red', 'green', 'blue', 'yellow'}\n",
    "print('purple' in colors)\n",
    "\n",
    "colors.add('purple')\n",
    "print('purple' in colors)"
   ]
  },
  {
   "cell_type": "markdown",
   "id": "e84b9fcc",
   "metadata": {},
   "source": [
    "2. **Unique Elements**\n",
    "    - Given the list `numbers_list = [1, 2, 3, 4, 3, 2, 1, 5, 6, 5, 4]`, create a set named `unique_numbers` from this list. Determine how many unique numbers are in `numbers_list` by checking the size of `unique_numbers`."
   ]
  },
  {
   "cell_type": "code",
   "execution_count": 65,
   "id": "748c1de0",
   "metadata": {},
   "outputs": [
    {
     "name": "stdout",
     "output_type": "stream",
     "text": [
      "6\n"
     ]
    }
   ],
   "source": [
    "numbers_list = [1, 2, 3, 4, 3, 2, 1, 5, 6, 5, 4]\n",
    "unique_numbers = set(numbers_list)\n",
    "print(len(unique_numbers))"
   ]
  },
  {
   "cell_type": "markdown",
   "id": "599fb15a",
   "metadata": {},
   "source": [
    "3. **Adding Multiple Elements**\n",
    "    - You have a set `flavors` containing 'chocolate', 'vanilla', and 'strawberry'. Update `flavors` to include 'mint' and 'bubble gum' using a single command."
   ]
  },
  {
   "cell_type": "code",
   "execution_count": 69,
   "id": "aaa0a584",
   "metadata": {},
   "outputs": [],
   "source": [
    "flavors = {'chocolate', 'vanilla', 'strawberry'}\n",
    "flavors.update({'mint', 'bubble gum'})"
   ]
  },
  {
   "cell_type": "markdown",
   "id": "02a22327",
   "metadata": {},
   "source": [
    "4. **Removing Elements**\n",
    "    - There is a set `tools` with elements 'hammer', 'wrench', 'screwdriver', and 'pliers'. Remove 'wrench' from `tools` using `.remove()`. Then, using `.discard()`, attempt to remove 'saw' from `tools`."
   ]
  },
  {
   "cell_type": "code",
   "execution_count": 70,
   "id": "0312dee4",
   "metadata": {},
   "outputs": [],
   "source": [
    "tools = {'hammer', 'wrench', 'screwdriver', 'pilers'}\n",
    "tools.remove('pilers')\n",
    "tools.discard('saw')"
   ]
  },
  {
   "cell_type": "markdown",
   "id": "c14e4166",
   "metadata": {},
   "source": [
    "5. **Safe Element Removal**\n",
    "    - Create a set `planets` including 'earth', 'jupiter', and 'mars'. Safely remove 'venus' from the set `planets` using a method that will not raise an error even if the item does not exist."
   ]
  },
  {
   "cell_type": "code",
   "execution_count": 71,
   "id": "b511f8ab",
   "metadata": {},
   "outputs": [],
   "source": [
    "planets = {'earth', 'jupiter', 'mars'}\n",
    "planets.discard('venus')"
   ]
  },
  {
   "cell_type": "markdown",
   "id": "70d040c6",
   "metadata": {},
   "source": [
    "6. **Clearing a Set**\n",
    "    - Take the `planets` set and clear all of its elements, ensuring that it is emptied completely."
   ]
  },
  {
   "cell_type": "code",
   "execution_count": 72,
   "id": "c9e538d0",
   "metadata": {},
   "outputs": [
    {
     "name": "stdout",
     "output_type": "stream",
     "text": [
      "set()\n"
     ]
    }
   ],
   "source": [
    "planets.clear()\n",
    "print(planets)"
   ]
  },
  {
   "cell_type": "markdown",
   "id": "8053c4d0",
   "metadata": {},
   "source": [
    "### **- 21. Set Operations**"
   ]
  },
  {
   "cell_type": "markdown",
   "id": "f36a48e7",
   "metadata": {},
   "source": [
    "Given the following sets:"
   ]
  },
  {
   "cell_type": "code",
   "execution_count": 73,
   "id": "a588a7b5",
   "metadata": {},
   "outputs": [],
   "source": [
    "set_x = {10, 20, 30, 40, 50}\n",
    "set_y = {30, 40, 50, 60, 70}\n",
    "set_z = {5, 15, 25, 35}"
   ]
  },
  {
   "cell_type": "markdown",
   "id": "e7fec3a8",
   "metadata": {},
   "source": [
    "1. Find the union of `set_x` and `set_y` using both the `.union()` method and the `|` operator. Verify that the result is the same."
   ]
  },
  {
   "cell_type": "code",
   "execution_count": 77,
   "id": "4615ca77",
   "metadata": {},
   "outputs": [
    {
     "name": "stdout",
     "output_type": "stream",
     "text": [
      "{70, 40, 10, 50, 20, 60, 30}\n",
      "{70, 40, 10, 50, 20, 60, 30}\n",
      "True\n"
     ]
    }
   ],
   "source": [
    "print(set_x.union(set_y))\n",
    "print(set_x | set_y)\n",
    "print(set_x.union(set_y) == set_x | set_y)"
   ]
  },
  {
   "cell_type": "markdown",
   "id": "aa4d693b",
   "metadata": {},
   "source": [
    "2. Compute the intersection of `set_x`, `set_y`, and `set_z` using the `.intersection()` method. "
   ]
  },
  {
   "cell_type": "code",
   "execution_count": 78,
   "id": "824ac115",
   "metadata": {},
   "outputs": [
    {
     "name": "stdout",
     "output_type": "stream",
     "text": [
      "set()\n"
     ]
    }
   ],
   "source": [
    "print(set_x.intersection(set_y,set_z))"
   ]
  },
  {
   "cell_type": "markdown",
   "id": "4319c33e",
   "metadata": {},
   "source": [
    "3. Determine the symmetric difference between `set_y` and `set_z` using both the `.symmetric_difference()` method and the `^` operator. Check if the outcomes match."
   ]
  },
  {
   "cell_type": "code",
   "execution_count": 79,
   "id": "0b1bef94",
   "metadata": {},
   "outputs": [
    {
     "name": "stdout",
     "output_type": "stream",
     "text": [
      "{35, 5, 70, 40, 15, 50, 25, 60, 30}\n",
      "{35, 5, 70, 40, 15, 50, 25, 60, 30}\n",
      "True\n"
     ]
    }
   ],
   "source": [
    "print(set_y.symmetric_difference(set_z))\n",
    "print(set_y ^ set_z)\n",
    "print(set_y.symmetric_difference(set_z) == set_y ^ set_z)"
   ]
  },
  {
   "cell_type": "markdown",
   "id": "7338fcbd",
   "metadata": {},
   "source": [
    "4. Use the difference operator `-` to find elements in `set_x` that are not in `set_y`."
   ]
  },
  {
   "cell_type": "code",
   "execution_count": 80,
   "id": "72819173",
   "metadata": {},
   "outputs": [
    {
     "name": "stdout",
     "output_type": "stream",
     "text": [
      "{10, 20}\n"
     ]
    }
   ],
   "source": [
    "print(set_x - set_y)"
   ]
  },
  {
   "cell_type": "markdown",
   "id": "9cc0d438",
   "metadata": {},
   "source": [
    "5. Attempt to perform an operation that combines all three sets, `set_x`, `set_y`, and `set_z`, into a new set containing elements shared by at least two of the sets. Hint: You may need to use method chaining or additional parentheses with operators to achieve this."
   ]
  },
  {
   "cell_type": "code",
   "execution_count": 81,
   "id": "714b58ee",
   "metadata": {},
   "outputs": [
    {
     "name": "stdout",
     "output_type": "stream",
     "text": [
      "{40, 50, 30}\n"
     ]
    }
   ],
   "source": [
    "xyz_union = set_x | set_y | set_z\n",
    "x_diff_yz = set_x - set_y - set_z\n",
    "y_diff_yz = set_y - set_x - set_z\n",
    "z_diff_yz = set_z - set_x - set_y\n",
    "print(xyz_union - x_diff_yz - y_diff_yz - z_diff_yz)"
   ]
  },
  {
   "cell_type": "markdown",
   "id": "e49abd57",
   "metadata": {},
   "source": [
    "### **- 22. Frozensets**"
   ]
  },
  {
   "cell_type": "markdown",
   "id": "479a99eb",
   "metadata": {},
   "source": [
    "1. **Creating and Using `frozenset`**\n",
    "    - Create a `frozenset` named `permissions` that contains the strings 'read', 'write', and 'execute'. Then, check to see if the permission 'delete' is included in the `permissions` set."
   ]
  },
  {
   "cell_type": "code",
   "execution_count": 83,
   "id": "4896ec23",
   "metadata": {},
   "outputs": [
    {
     "name": "stdout",
     "output_type": "stream",
     "text": [
      "False\n"
     ]
    }
   ],
   "source": [
    "permissions = frozenset({'read', 'write', 'execute'})\n",
    "print('delete' in permissions)"
   ]
  },
  {
   "cell_type": "markdown",
   "id": "ea79f7a2",
   "metadata": {},
   "source": [
    "2. **Set Operations with `frozenset`**\n",
    "    - Given `frozenset` A as `{1, 2, 3}` and `frozenset` B as `{2, 3, 4}`:\n",
    "        - Find the union of A and B.\n",
    "        - Determine the intersection.\n",
    "        - Calculate the difference between A and B."
   ]
  },
  {
   "cell_type": "code",
   "execution_count": 84,
   "id": "88f6e10c",
   "metadata": {},
   "outputs": [
    {
     "name": "stdout",
     "output_type": "stream",
     "text": [
      "frozenset({1, 2, 3, 4, 5, 6})\n",
      "frozenset()\n",
      "frozenset({1, 2, 3})\n"
     ]
    }
   ],
   "source": [
    "A = frozenset({1,2,3})\n",
    "B = frozenset({4,5,6})\n",
    "print(A | B)\n",
    "print(A & B)\n",
    "print(A - B)"
   ]
  },
  {
   "cell_type": "markdown",
   "id": "64a319d1",
   "metadata": {},
   "source": [
    "3. **Using `frozenset` as a Dictionary Key**\n",
    "    - Create a dictionary `graph` where each key is a `frozenset` representing an edge in a graph, and the value is the weight of that edge. Here's an example edge: a `frozenset` of nodes (1, 2) with an edge weight of 10. Add at least two more edges with different weights.\n"
   ]
  },
  {
   "cell_type": "code",
   "execution_count": 85,
   "id": "b9cd961b",
   "metadata": {},
   "outputs": [],
   "source": [
    "graph = {\n",
    "    frozenset({1,2}): 10,\n",
    "    frozenset({1,3}): 6,\n",
    "    frozenset({2,3}): 8\n",
    "}"
   ]
  },
  {
   "cell_type": "markdown",
   "id": "18107eaf",
   "metadata": {},
   "source": [
    "4. **Converting to `frozenset`**\n",
    "    - Take the list `['apple', 'banana', 'apple', 'cherry']` and convert it into a `frozenset` named `unique_fruits`. Verify that duplicates have been removed by converting the `frozenset` back to a list and checking its contents.\n"
   ]
  },
  {
   "cell_type": "code",
   "execution_count": 86,
   "id": "487dac7b",
   "metadata": {},
   "outputs": [
    {
     "name": "stdout",
     "output_type": "stream",
     "text": [
      "['apple', 'banana', 'cherry']\n"
     ]
    }
   ],
   "source": [
    "unique_fruits = frozenset(['apple', 'banana', 'apple', 'cherry'])\n",
    "print(list(unique_fruits))"
   ]
  },
  {
   "cell_type": "markdown",
   "id": "39519935",
   "metadata": {},
   "source": [
    "### **- 23. Packing and Unpacking**"
   ]
  },
  {
   "cell_type": "markdown",
   "id": "ca284b8e",
   "metadata": {},
   "source": [
    "1. **Packing into Tuples**:\n",
    "   - Create a tuple called `student_info` by packing the following individual variables: `name`, `age`, `grade`, and `subject`, which hold a student's name, age, grade (as a letter), and favorite subject, respectively."
   ]
  },
  {
   "cell_type": "code",
   "execution_count": 89,
   "id": "5b3ca32f",
   "metadata": {},
   "outputs": [],
   "source": [
    "name = 'Ali'\n",
    "age = 16\n",
    "grade = 'A'\n",
    "subject = 'Math'\n",
    "student_info = (name, age, grade, subject)"
   ]
  },
  {
   "cell_type": "markdown",
   "id": "038b715a",
   "metadata": {},
   "source": [
    "2. **Unpacking from Tuples**:\n",
    "   - Given a tuple `coordinates` with three elements representing x, y, and z coordinates, unpack these values into separate variables called `x`, `y`, and `z`. Print the variables."
   ]
  },
  {
   "cell_type": "code",
   "execution_count": 91,
   "id": "b4f6c1c2",
   "metadata": {},
   "outputs": [
    {
     "name": "stdout",
     "output_type": "stream",
     "text": [
      "5.5 10 11\n"
     ]
    }
   ],
   "source": [
    "coordinates = (5.5, 10, 11)\n",
    "x, y, z = coordinates\n",
    "print(x, y, z)"
   ]
  },
  {
   "cell_type": "markdown",
   "id": "49e338a3",
   "metadata": {},
   "source": [
    "3. **Unpacking from Lists**:\n",
    "   - Suppose you have a list of scores `[72, 85, 90]`. Unpack the scores into variables `math_score`, `science_score`, and `english_score`, respectively. Then, print these variables."
   ]
  },
  {
   "cell_type": "code",
   "execution_count": 92,
   "id": "5d356ca7",
   "metadata": {},
   "outputs": [
    {
     "name": "stdout",
     "output_type": "stream",
     "text": [
      "72 85 90\n"
     ]
    }
   ],
   "source": [
    "scores = [72, 85, 90]\n",
    "math_score, science_score, english_score = scores\n",
    "print(math_score, science_score, english_score)"
   ]
  },
  {
   "cell_type": "markdown",
   "id": "2500f993",
   "metadata": {},
   "source": [
    "4. **Unpacking Dictionaries**:\n",
    "   - Given a dictionary `student`, with keys `name`, `age`, and `email`, unpack the values of this dictionary into variables `student_name`, `student_age`, and `student_email`. Print the variables."
   ]
  },
  {
   "cell_type": "code",
   "execution_count": 93,
   "id": "47e0d380",
   "metadata": {},
   "outputs": [
    {
     "name": "stdout",
     "output_type": "stream",
     "text": [
      "Ali 16 ali@school.com\n"
     ]
    }
   ],
   "source": [
    "student = {\n",
    "    'name': 'Ali',\n",
    "    'age': 16,\n",
    "    'email': 'ali@school.com'\n",
    "}\n",
    "student_name, student_age, student_email = student.values()\n",
    "print(student_name, student_age, student_email)"
   ]
  },
  {
   "cell_type": "markdown",
   "id": "baae91ed",
   "metadata": {},
   "source": [
    "5. **Extended Unpacking with Lists**:\n",
    "   - You have a list of numbers `[1, 2, 3, 4, 5, 6, 7, 8]`. Use extended unpacking to get the first two numbers into variables `first_num` and `second_num`, and the rest of the numbers into a list called `remaining_numbers`."
   ]
  },
  {
   "cell_type": "code",
   "execution_count": 94,
   "id": "b9a84a26",
   "metadata": {},
   "outputs": [],
   "source": [
    "first_num, second_num, *remaining_numbers = [1, 2, 3, 4, 5, 6, 7, 8]"
   ]
  },
  {
   "cell_type": "markdown",
   "id": "82b3591c",
   "metadata": {},
   "source": [
    "6. **Bonus: Swapping Values**:\n",
    "   - Without using a temporary variable, swap the values of two variables `a` and `b` using packing and unpacking."
   ]
  },
  {
   "cell_type": "code",
   "execution_count": 95,
   "id": "dd4c110d",
   "metadata": {},
   "outputs": [
    {
     "name": "stdout",
     "output_type": "stream",
     "text": [
      "20 1\n"
     ]
    }
   ],
   "source": [
    "num_a = 1\n",
    "num_b = 20\n",
    "num_a, num_b = num_b, num_a\n",
    "print(num_a, num_b)"
   ]
  }
 ],
 "metadata": {
  "kernelspec": {
   "display_name": "temp",
   "language": "python",
   "name": "python3"
  },
  "language_info": {
   "codemirror_mode": {
    "name": "ipython",
    "version": 3
   },
   "file_extension": ".py",
   "mimetype": "text/x-python",
   "name": "python",
   "nbconvert_exporter": "python",
   "pygments_lexer": "ipython3",
   "version": "3.12.11"
  }
 },
 "nbformat": 4,
 "nbformat_minor": 5
}
