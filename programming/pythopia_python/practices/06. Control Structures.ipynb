{
 "cells": [
  {
   "cell_type": "markdown",
   "id": "393f80bc",
   "metadata": {},
   "source": [
    "## **06. Control Structures**"
   ]
  },
  {
   "cell_type": "markdown",
   "id": "3ec04e1f",
   "metadata": {},
   "source": [
    "### **- 02. Conditional Statements**"
   ]
  },
  {
   "cell_type": "markdown",
   "id": "d03eb95b",
   "metadata": {},
   "source": [
    "You are creating a Python program for a movie theater to determine the ticket price based on the customer's age. The pricing rules are as follows:\n",
    "\n",
    "1. The regular ticket price is $10.\n",
    "2. Children under 14 years old get a 50% discount.\n",
    "3. Seniors aged 65 and above get a 30% discount.\n",
    "\n",
    "Write a Python program that:\n",
    "\n",
    "1. Asks the user for their age.\n",
    "2. Calculates and prints the ticket price according to the above rules.\n",
    "\n",
    "**Instructions:**\n",
    "\n",
    "1. Use the `input()` function to prompt the user for their age.\n",
    "2. Convert the input into an integer using `int()`.\n",
    "3. Determine the ticket price using an `if-elif-else` structure.\n",
    "4. Print out the final ticket price with a message.\n",
    "\n"
   ]
  },
  {
   "cell_type": "code",
   "execution_count": 5,
   "id": "fd37f691",
   "metadata": {},
   "outputs": [
    {
     "name": "stdout",
     "output_type": "stream",
     "text": [
      "Ticket price = 10\n"
     ]
    }
   ],
   "source": [
    "customer_age = int(input(\"Enter your age: \"))\n",
    "ticket_price = 10\n",
    "\n",
    "if customer_age < 14:\n",
    "    ticket_price *= 0.5\n",
    "elif customer_age > 65:\n",
    "    ticket_price *= 0.7\n",
    "\n",
    "print(f\"Ticket price = {ticket_price}\")"
   ]
  },
  {
   "cell_type": "markdown",
   "id": "f2498261",
   "metadata": {},
   "source": [
    "### **- 03. for Loops**"
   ]
  },
  {
   "cell_type": "code",
   "execution_count": 6,
   "id": "c37b2526",
   "metadata": {},
   "outputs": [],
   "source": [
    "# Weekly temperature data in degrees Celsius\n",
    "temperatures = [19, 21, 22, 24, 23, 19, 20]"
   ]
  },
  {
   "cell_type": "markdown",
   "id": "9dd2e972",
   "metadata": {},
   "source": [
    "1. **Calculate the Average Temperature of the Week**:\n",
    "   - Write a `for` loop that calculates the average temperature for the week and prints it out."
   ]
  },
  {
   "cell_type": "code",
   "execution_count": 10,
   "id": "814b8c22",
   "metadata": {},
   "outputs": [
    {
     "name": "stdout",
     "output_type": "stream",
     "text": [
      "21.142857142857142\n"
     ]
    }
   ],
   "source": [
    "temp_total = 0\n",
    "for temp in temperatures:\n",
    "    temp_total += temp\n",
    "temp_avg = temp_total/len(temperatures)\n",
    "print(temp_avg)"
   ]
  },
  {
   "cell_type": "markdown",
   "id": "47d35075",
   "metadata": {},
   "source": [
    "2. **Find the Maximum and Minimum Temperatures**:\n",
    "   - Use a `for` loop to determine the highest and lowest temperatures recorded during the week. Print both values."
   ]
  },
  {
   "cell_type": "code",
   "execution_count": 8,
   "id": "98179019",
   "metadata": {},
   "outputs": [
    {
     "name": "stdout",
     "output_type": "stream",
     "text": [
      "24\n",
      "19\n"
     ]
    }
   ],
   "source": [
    "print(max(temperatures))\n",
    "print(min(temperatures))"
   ]
  },
  {
   "cell_type": "markdown",
   "id": "587eb4b7",
   "metadata": {},
   "source": [
    "3. **Count Warm Days**:\n",
    "   - Define a \"warm day\" as having an average temperature of 22 degrees Celsius or higher. Write a `for` loop that counts the number of warm days in the list and prints the count."
   ]
  },
  {
   "cell_type": "code",
   "execution_count": 11,
   "id": "e5ec1020",
   "metadata": {},
   "outputs": [
    {
     "name": "stdout",
     "output_type": "stream",
     "text": [
      "3\n"
     ]
    }
   ],
   "source": [
    "warm_day_count = 0\n",
    "for temp in temperatures:\n",
    "    if(temp>=22):\n",
    "        warm_day_count += 1\n",
    "print(warm_day_count)"
   ]
  },
  {
   "cell_type": "markdown",
   "id": "183d6787",
   "metadata": {},
   "source": [
    "4. **Create a New List of Temperature Fluctuations**:\n",
    "   - Write a `for` loop to create a new list that contains the temperature fluctuations from one day to the next (the difference between each consecutive pair of temperatures). Print the new list."
   ]
  },
  {
   "cell_type": "code",
   "execution_count": 14,
   "id": "185bbfa4",
   "metadata": {},
   "outputs": [
    {
     "name": "stdout",
     "output_type": "stream",
     "text": [
      "[-2, -1, -2, 1, 4, -1]\n"
     ]
    }
   ],
   "source": [
    "flactuatuions = []\n",
    "for ind, temp in enumerate(temperatures):\n",
    "    if(ind != len(temperatures)-1):\n",
    "        flactuatuions.append(temp - temperatures[ind+1])\n",
    "print(flactuatuions)"
   ]
  },
  {
   "cell_type": "markdown",
   "id": "8985011c",
   "metadata": {},
   "source": [
    "5. **Bonus: Find the Day with the Largest Fluctuation**:\n",
    "   - Using the list of temperature fluctuations you created in task 4, write a `for` loop to find out which day had the largest temperature fluctuation. Note that you don't need to consider the first day since there's no previous day to compare it with. Print the day (as an index) and the fluctuation."
   ]
  },
  {
   "cell_type": "code",
   "execution_count": 16,
   "id": "bd1ef855",
   "metadata": {},
   "outputs": [
    {
     "name": "stdout",
     "output_type": "stream",
     "text": [
      "Day 5 and 6 had the biggest fluctuation: 4\n"
     ]
    }
   ],
   "source": [
    "abs_fluctuatuions = list(map(lambda x: abs(x), flactuatuions))\n",
    "max_fluctuation = max(abs_fluctuatuions)\n",
    "first_day = abs_fluctuatuions.index(max_fluctuation) + 1\n",
    "second_day = abs_fluctuatuions.index(max_fluctuation) + 2\n",
    "print(f\"Day {first_day} and {second_day} had the biggest fluctuation: {max_fluctuation}\")"
   ]
  },
  {
   "cell_type": "markdown",
   "id": "05d52e7e",
   "metadata": {},
   "source": [
    "### **- 04. while Loops**"
   ]
  },
  {
   "cell_type": "code",
   "execution_count": 25,
   "id": "7ca07b58",
   "metadata": {},
   "outputs": [],
   "source": [
    "initial_balance = 1000  # The starting balance in the account.\n",
    "monthly_deposit = 100   # The fixed amount deposited into the account each month.\n",
    "annual_interest_rate = 0.05  # The annual interest rate as a decimal (5% here).\n",
    "savings_goal = 20000    # The target balance you want to reach."
   ]
  },
  {
   "cell_type": "markdown",
   "id": "a74b61c3",
   "metadata": {},
   "source": [
    "1. **Calculate the Number of Months to Reach the Savings Goal**:\n",
    "   - Using a `while` loop, calculate how many months it will take for the account balance to reach or exceed the savings goal. Assume that the interest is applied annually (i.e., the balance increases by the annual interest rate once every 12 months). Print the number of months needed."
   ]
  },
  {
   "cell_type": "code",
   "execution_count": 30,
   "id": "d2c2315b",
   "metadata": {},
   "outputs": [
    {
     "name": "stdout",
     "output_type": "stream",
     "text": [
      "136\n"
     ]
    }
   ],
   "source": [
    "months_passed = 0\n",
    "temp_balance = initial_balance\n",
    "\n",
    "while temp_balance < savings_goal:\n",
    "    temp_balance += monthly_deposit\n",
    "    \n",
    "    if(months_passed%12==0 and months_passed !=0):\n",
    "        temp_balance += temp_balance*annual_interest_rate\n",
    "\n",
    "    months_passed += 1\n",
    "\n",
    "print(months_passed)"
   ]
  },
  {
   "cell_type": "markdown",
   "id": "fe13219e",
   "metadata": {},
   "source": [
    "2. **Print the Account Balance at the End of Each Year**:\n",
    "   - Modify the `while` loop from Task 1 to print the account balance at the end of each year until the savings goal is reached."
   ]
  },
  {
   "cell_type": "code",
   "execution_count": 31,
   "id": "02f6f412",
   "metadata": {},
   "outputs": [
    {
     "name": "stdout",
     "output_type": "stream",
     "text": [
      "Year 1.0 deposit = 2415.0\n",
      "Year 2.0 deposit = 3795.75\n",
      "Year 3.0 deposit = 5245.5375\n",
      "Year 4.0 deposit = 6767.814375\n",
      "Year 5.0 deposit = 8366.20509375\n",
      "Year 6.0 deposit = 10044.5153484375\n",
      "Year 7.0 deposit = 11806.741115859375\n",
      "Year 8.0 deposit = 13657.078171652343\n",
      "Year 9.0 deposit = 15599.932080234961\n",
      "Year 10.0 deposit = 17639.928684246708\n",
      "Year 11.0 deposit = 19781.925118459043\n"
     ]
    }
   ],
   "source": [
    "months_passed = 0\n",
    "temp_balance = initial_balance\n",
    "\n",
    "while temp_balance < savings_goal:\n",
    "    temp_balance += monthly_deposit\n",
    "    \n",
    "    if(months_passed%12==0 and months_passed !=0):\n",
    "        temp_balance += temp_balance*annual_interest_rate\n",
    "        print(f\"Year {months_passed/12} deposit = {temp_balance}\")\n",
    "\n",
    "    months_passed += 1"
   ]
  },
  {
   "cell_type": "markdown",
   "id": "659263df",
   "metadata": {},
   "source": [
    "3. **Bonus: Adjust for Different Interest Application Frequencies**:\n",
    "   - Adjust the `while` loop to apply interest on a different frequency (e.g., monthly, quarterly). The frequency can be a variable that you define. Print the number of months needed to reach the savings goal with this new interest application frequency."
   ]
  },
  {
   "cell_type": "code",
   "execution_count": 35,
   "id": "7ccd36c9",
   "metadata": {},
   "outputs": [
    {
     "name": "stdout",
     "output_type": "stream",
     "text": [
      "Intrest frequency: 4 months\n",
      "Year 1.0 deposit = 2597.4375\n",
      "Year 2.0 deposit = 4330.9085859375\n",
      "Year 3.0 deposit = 6337.618051795899\n",
      "Year 4.0 deposit = 8660.635097210228\n",
      "Year 5.0 deposit = 11349.81770440799\n",
      "Year 6.0 deposit = 14462.882720065298\n",
      "Year 7.0 deposit = 18066.64460881559\n",
      "Months needed: 93\n"
     ]
    }
   ],
   "source": [
    "interest_frequency = int(input(\"Enter intrest frequency (months): \"))\n",
    "print(f\"Intrest frequency: {interest_frequency} months\")\n",
    "\n",
    "months_passed = 0\n",
    "temp_balance = initial_balance\n",
    "\n",
    "while temp_balance < savings_goal:\n",
    "    temp_balance += monthly_deposit\n",
    "    \n",
    "    if(months_passed%interest_frequency==0 and months_passed !=0):\n",
    "        temp_balance += temp_balance*annual_interest_rate\n",
    "\n",
    "    if(months_passed%12==0 and months_passed!=0):\n",
    "        print(f\"Year {months_passed/12} deposit = {temp_balance}\")\n",
    "\n",
    "    months_passed += 1\n",
    "\n",
    "print(f\"Months needed: {months_passed}\")"
   ]
  },
  {
   "cell_type": "markdown",
   "id": "b8ef67cb",
   "metadata": {},
   "source": [
    "### **- 05. Loop Control Statements**"
   ]
  },
  {
   "cell_type": "code",
   "execution_count": 36,
   "id": "946dba17",
   "metadata": {},
   "outputs": [],
   "source": [
    "numbers = [7, 8, 0, 4, 3, 0, 5, 6, 0, 1]"
   ]
  },
  {
   "cell_type": "markdown",
   "id": "7ec37a12",
   "metadata": {},
   "source": [
    "1. **Find and Print the First Zero**:\n",
    "   - Use a `for` loop to iterate through the list and print the first zero you encounter. Use the `break` statement to exit the loop once the zero is found."
   ]
  },
  {
   "cell_type": "code",
   "execution_count": 39,
   "id": "ef5cbea4",
   "metadata": {},
   "outputs": [
    {
     "name": "stdout",
     "output_type": "stream",
     "text": [
      "First zero at index 2\n"
     ]
    }
   ],
   "source": [
    "for ind, num in enumerate(numbers):\n",
    "    if num == 0:\n",
    "        print(f\"First zero at index {ind}\")\n",
    "        break"
   ]
  },
  {
   "cell_type": "markdown",
   "id": "11d41c63",
   "metadata": {},
   "source": [
    "2. **Print Non-Zero Numbers**:\n",
    "   - Write another `for` loop that prints all the numbers in the list except for the zeros. Use the `continue` statement to skip printing zeros."
   ]
  },
  {
   "cell_type": "code",
   "execution_count": 41,
   "id": "3a1cd225",
   "metadata": {},
   "outputs": [
    {
     "name": "stdout",
     "output_type": "stream",
     "text": [
      "7\n",
      "8\n",
      "4\n",
      "3\n",
      "5\n",
      "6\n",
      "1\n"
     ]
    }
   ],
   "source": [
    "for num in numbers:\n",
    "    if num==0:\n",
    "        continue\n",
    "    print(num)"
   ]
  },
  {
   "cell_type": "markdown",
   "id": "4222bb7e",
   "metadata": {},
   "source": [
    "3. **Use `pass` as a Placeholder**:\n",
    "   - Suppose you want to iterate over the list and process non-zero numbers in the future, but the processing code isn't ready yet. Use a `for` loop with the `pass` statement as a placeholder for non-zero numbers and print \"Zero found\" for zeros."
   ]
  },
  {
   "cell_type": "code",
   "execution_count": 42,
   "id": "2a667fa6",
   "metadata": {},
   "outputs": [
    {
     "name": "stdout",
     "output_type": "stream",
     "text": [
      "Zero found\n",
      "Zero found\n",
      "Zero found\n"
     ]
    }
   ],
   "source": [
    "for num in numbers:\n",
    "    if num==0:\n",
    "        print(\"Zero found\")\n",
    "    else:\n",
    "        pass"
   ]
  },
  {
   "cell_type": "markdown",
   "id": "e34cf5dd",
   "metadata": {},
   "source": [
    "4. **Bonus: Implement a Retry Mechanism**: (Optional, this may be challenging)\n",
    "   - Simulate a simple retry mechanism using a `while` loop. You are trying to connect to a server, and the connection attempts are represented by the list of numbers. A zero means the connection failed, and any non-zero number represents a successful connection. Use a `for` loop inside a `while` loop to iterate through the connection attempts. If a connection is successful (`non-zero`), print \"Connected\" and use the `break` statement to exit both loops. If all connection attempts fail after iterating through the whole list, print \"All connection attempts failed. Retrying...\" and start the connection attempts again. Limit the number of retries to 3 to avoid an infinite loop."
   ]
  },
  {
   "cell_type": "code",
   "execution_count": null,
   "id": "e782661f",
   "metadata": {},
   "outputs": [
    {
     "name": "stdout",
     "output_type": "stream",
     "text": [
      "Connected\n"
     ]
    }
   ],
   "source": [
    "retries = 0\n",
    "while retries < 3:\n",
    "    for num in numbers:\n",
    "        if num != 0:\n",
    "            print(\"Connected\")\n",
    "            break\n",
    "        else:\n",
    "            print(\"All connection attempts failed. Retrying...\")\n",
    "            retries += 1\n",
    "            continue\n",
    "    break"
   ]
  },
  {
   "cell_type": "markdown",
   "id": "14d99c70",
   "metadata": {},
   "source": [
    "### **- 06. Comprehensions**"
   ]
  },
  {
   "cell_type": "code",
   "execution_count": 45,
   "id": "9896adb0",
   "metadata": {},
   "outputs": [],
   "source": [
    "words = [\"apple\", \"banana\", \"cherry\", \"date\", \"elderberry\", \"fig\", \"grape\"]\n",
    "scores = [88, 92, 78, 90, 89, 76, 61]"
   ]
  },
  {
   "cell_type": "markdown",
   "id": "ad5ef754",
   "metadata": {},
   "source": [
    "1. **List Comprehension - Select Long Words**:\n",
    "   - Use a list comprehension to create a new list that contains only the words with more than 5 characters from the `words` list. Print the new list."
   ]
  },
  {
   "cell_type": "code",
   "execution_count": 46,
   "id": "02950c76",
   "metadata": {},
   "outputs": [
    {
     "name": "stdout",
     "output_type": "stream",
     "text": [
      "['banana', 'cherry', 'elderberry']\n"
     ]
    }
   ],
   "source": [
    "long_words = [word for word in words if len(word)>5]\n",
    "print(long_words)"
   ]
  },
  {
   "cell_type": "markdown",
   "id": "37d9d10a",
   "metadata": {},
   "source": [
    "2. **Set Comprehension - Unique Word Lengths**:\n",
    "   - Use a set comprehension to create a set that contains the lengths of each word in the `words` list. This will give you a set of unique word lengths. Print the resulting set."
   ]
  },
  {
   "cell_type": "code",
   "execution_count": 47,
   "id": "0729eca7",
   "metadata": {},
   "outputs": [
    {
     "name": "stdout",
     "output_type": "stream",
     "text": [
      "{3, 4, 5, 6, 10}\n"
     ]
    }
   ],
   "source": [
    "lengths_set = {len(word) for word in words}\n",
    "print(lengths_set)"
   ]
  },
  {
   "cell_type": "markdown",
   "id": "2b63a42e",
   "metadata": {},
   "source": [
    "3. **Dictionary Comprehension - Word to Length Mapping**:\n",
    "   - Use a dictionary comprehension to create a dictionary where each word in the `words` list is a key, and its corresponding value is the length of the word. Print the dictionary."
   ]
  },
  {
   "cell_type": "code",
   "execution_count": 48,
   "id": "228f4279",
   "metadata": {},
   "outputs": [
    {
     "name": "stdout",
     "output_type": "stream",
     "text": [
      "{'apple': 5, 'banana': 6, 'cherry': 6, 'date': 4, 'elderberry': 10, 'fig': 3, 'grape': 5}\n"
     ]
    }
   ],
   "source": [
    "word_to_length = {word:len(word) for word in words}\n",
    "print(word_to_length)"
   ]
  },
  {
   "cell_type": "markdown",
   "id": "3ca8dafa",
   "metadata": {},
   "source": [
    "4. **List Comprehension with Conditional - Grade Categories**:\n",
    "   - Use a list comprehension with a conditional to create a new list of strings that categorize each score in the `scores` list as 'Pass' if the score is 75 or higher and 'Fail' if the score is lower than 75. Print the list of grade categories."
   ]
  },
  {
   "cell_type": "code",
   "execution_count": 51,
   "id": "020e4227",
   "metadata": {},
   "outputs": [
    {
     "name": "stdout",
     "output_type": "stream",
     "text": [
      "['Pass', 'Pass', 'Pass', 'Pass', 'Pass', 'Pass', 'Fail']\n"
     ]
    }
   ],
   "source": [
    "scores_result = ['Pass' if score >= 75 else 'Fail' for score in scores]\n",
    "print(scores_result)"
   ]
  },
  {
   "cell_type": "markdown",
   "id": "e8b6fb0a",
   "metadata": {},
   "source": [
    "5. **Bonus: Nested Comprehensions - Matrix Transposition**:\n",
    "   - Given a matrix (a list of lists), use a nested list comprehension to transpose the matrix (swap rows and columns). Print the transposed matrix."
   ]
  },
  {
   "cell_type": "code",
   "execution_count": 53,
   "id": "cb2ecc5e",
   "metadata": {},
   "outputs": [
    {
     "name": "stdout",
     "output_type": "stream",
     "text": [
      "[[1, 4, 7], [2, 5, 8], [3, 6, 9]]\n"
     ]
    }
   ],
   "source": [
    "matrix = [\n",
    "    [1, 2, 3],\n",
    "    [4, 5, 6],\n",
    "    [7, 8, 9]\n",
    "]\n",
    "\n",
    "transposed_matrix = [[matrix[row][col] for row in range(len(matrix))] for col in range(len(matrix[0]))]\n",
    "print(transposed_matrix)"
   ]
  }
 ],
 "metadata": {
  "kernelspec": {
   "display_name": "temp",
   "language": "python",
   "name": "python3"
  },
  "language_info": {
   "codemirror_mode": {
    "name": "ipython",
    "version": 3
   },
   "file_extension": ".py",
   "mimetype": "text/x-python",
   "name": "python",
   "nbconvert_exporter": "python",
   "pygments_lexer": "ipython3",
   "version": "3.12.11"
  }
 },
 "nbformat": 4,
 "nbformat_minor": 5
}
