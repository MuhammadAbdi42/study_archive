{
 "cells": [
  {
   "cell_type": "markdown",
   "id": "f911bbcb",
   "metadata": {},
   "source": [
    "## **07. Functions**"
   ]
  },
  {
   "cell_type": "markdown",
   "id": "1a73ab99",
   "metadata": {},
   "source": [
    "### **- 02. Defining and Calling Functions**"
   ]
  },
  {
   "cell_type": "markdown",
   "id": "6f7d7bb4",
   "metadata": {},
   "source": [
    "1. **Defining and Calling a Simple Function**:\n",
    "   - Define a function named `greet` that prints \"Hello, World!\" to the console. Then, call this function to see the greeting printed out."
   ]
  },
  {
   "cell_type": "code",
   "execution_count": 1,
   "id": "56ab4b8d",
   "metadata": {},
   "outputs": [
    {
     "name": "stdout",
     "output_type": "stream",
     "text": [
      "Hello, world!\n"
     ]
    }
   ],
   "source": [
    "def greet():\n",
    "    print(\"Hello, world!\")\n",
    "\n",
    "greet()"
   ]
  },
  {
   "cell_type": "markdown",
   "id": "77c0d322",
   "metadata": {},
   "source": [
    "2. **Creating a Function with Parameters**:\n",
    "   - Define a function called `personalize_greeting` that takes a name as a parameter and prints a personalized greeting, \"Hello, [name]!\". Replace `[name]` with the actual name provided. Call this function with your name as an argument."
   ]
  },
  {
   "cell_type": "code",
   "execution_count": 3,
   "id": "f7b95495",
   "metadata": {},
   "outputs": [
    {
     "name": "stdout",
     "output_type": "stream",
     "text": [
      "Hello Ali\n"
     ]
    }
   ],
   "source": [
    "def personalize_greeting(name: str):\n",
    "    print(f\"Hello {name}\")\n",
    "\n",
    "personalize_greeting('Ali')"
   ]
  },
  {
   "cell_type": "markdown",
   "id": "d235e0ed",
   "metadata": {},
   "source": [
    "3. **Calculating the Area of a Circle**:\n",
    "   - Define a function named `circle_area` that takes the radius of a circle as a parameter and returns the area of the circle. Use the formula `area = π * radius^2` for the calculation (`π` can be approximated as `3.14159`). Call this function with a radius of `5` and print the result."
   ]
  },
  {
   "cell_type": "code",
   "execution_count": 4,
   "id": "8f628d4a",
   "metadata": {},
   "outputs": [
    {
     "name": "stdout",
     "output_type": "stream",
     "text": [
      "78.53975\n"
     ]
    }
   ],
   "source": [
    "def circle_area(radius: float):\n",
    "    PI = 3.14159\n",
    "    return PI*radius**2\n",
    "\n",
    "print(circle_area(5))"
   ]
  },
  {
   "cell_type": "markdown",
   "id": "9a03e183",
   "metadata": {},
   "source": [
    "4. **Using Multiple Parameters**:\n",
    "   - Define a function called `add_numbers` that takes two parameters and returns their sum. Call this function with two numbers of your choice and print the result."
   ]
  },
  {
   "cell_type": "code",
   "execution_count": 5,
   "id": "dd4a8ccb",
   "metadata": {},
   "outputs": [
    {
     "name": "stdout",
     "output_type": "stream",
     "text": [
      "7\n"
     ]
    }
   ],
   "source": [
    "def add_numbers(a: float, b:float):\n",
    "    return a+b\n",
    "\n",
    "print(add_numbers(3,4))"
   ]
  },
  {
   "cell_type": "markdown",
   "id": "f4235d74",
   "metadata": {},
   "source": [
    "5. **No Return Statement**:\n",
    "   - Define a function called `print_menu` that prints a list of food items to the console but does not return anything. Call this function to display the menu."
   ]
  },
  {
   "cell_type": "code",
   "execution_count": 6,
   "id": "193e8068",
   "metadata": {},
   "outputs": [
    {
     "name": "stdout",
     "output_type": "stream",
     "text": [
      "The menu:\n",
      "        1. Pizza\n",
      "        2. Burger\n",
      "        3. Fries\n",
      "        4. Soda\n",
      "        \n"
     ]
    }
   ],
   "source": [
    "def print_menu():\n",
    "    print(\n",
    "        \"\"\"The menu:\n",
    "        1. Pizza\n",
    "        2. Burger\n",
    "        3. Fries\n",
    "        4. Soda\n",
    "        \"\"\"\n",
    "    )\n",
    "\n",
    "print_menu()"
   ]
  },
  {
   "cell_type": "markdown",
   "id": "e504e00f",
   "metadata": {},
   "source": [
    "6. **Bonus: A Function that Returns Multiple Values**:\n",
    "   - Define a function called `min_max` that takes a list of numbers as a parameter and returns both the minimum and maximum numbers in the list. Call this function with a list of numbers and unpack the results into two variables, then print those variables."
   ]
  },
  {
   "cell_type": "code",
   "execution_count": 8,
   "id": "b5ffcc3e",
   "metadata": {},
   "outputs": [
    {
     "name": "stdout",
     "output_type": "stream",
     "text": [
      "-1 42\n"
     ]
    }
   ],
   "source": [
    "def min_max(*numbers):\n",
    "    return min(numbers), max(numbers)\n",
    "\n",
    "temp_min, temp_max = min_max(2,4,6,2,3,0,-1,23,42,9)\n",
    "print(temp_min,temp_max)"
   ]
  },
  {
   "cell_type": "markdown",
   "id": "474a8b55",
   "metadata": {},
   "source": [
    "### **03. Argument Passing**"
   ]
  },
  {
   "cell_type": "markdown",
   "id": "f32ef7af",
   "metadata": {},
   "source": [
    "1. Write a function named `schedule_visit` that takes three parameters: `section` (the section of the zoo to visit, e.g., \"Reptiles\", \"Birds\"), `time` (the time you plan to visit that section), and `activity` with a default value of \"Feeding\". The function should print a message summarizing the visit plan for that section."
   ]
  },
  {
   "cell_type": "code",
   "execution_count": 10,
   "id": "c5684b71",
   "metadata": {},
   "outputs": [],
   "source": [
    "def schedule_visit(section, time, activity=\"feeding\"):\n",
    "    print(f\"{activity} - Section {section} at {time}\")"
   ]
  },
  {
   "cell_type": "markdown",
   "id": "22b4207b",
   "metadata": {},
   "source": [
    "2. Call the `schedule_visit` function for the \"Reptiles\" section at \"10:00 AM\" without specifying an activity to use the default value."
   ]
  },
  {
   "cell_type": "code",
   "execution_count": 11,
   "id": "d07fa6d1",
   "metadata": {},
   "outputs": [
    {
     "name": "stdout",
     "output_type": "stream",
     "text": [
      "feeding - Section Reptiles at 10:00 AM\n"
     ]
    }
   ],
   "source": [
    "schedule_visit(section=\"Reptiles\", time=\"10:00 AM\")"
   ]
  },
  {
   "cell_type": "markdown",
   "id": "83778919",
   "metadata": {},
   "source": [
    "3. Call the `schedule_visit` function for the \"Birds\" section at \"1:00 PM\" with the activity \"Educational Talk\"."
   ]
  },
  {
   "cell_type": "code",
   "execution_count": 12,
   "id": "6f2bd998",
   "metadata": {},
   "outputs": [
    {
     "name": "stdout",
     "output_type": "stream",
     "text": [
      "Educational Talk - Section Birds at 01:00 PM\n"
     ]
    }
   ],
   "source": [
    "schedule_visit(section=\"Birds\", time=\"01:00 PM\", activity=\"Educational Talk\")"
   ]
  },
  {
   "cell_type": "markdown",
   "id": "fae555e0",
   "metadata": {},
   "source": [
    "4. Write a function named `add_special_request` that takes two parameters: `section` and `request` with a default value of \"None\". This function should print a message indicating any special requests for the visit to that section. If no special request is made, the function should print that no special requests have been made for this section."
   ]
  },
  {
   "cell_type": "code",
   "execution_count": 13,
   "id": "abc0265f",
   "metadata": {},
   "outputs": [],
   "source": [
    "def add_special_request(section, request=None):\n",
    "    if(request == None):\n",
    "        print(\"no special requests have been made for this section\")\n",
    "    else:\n",
    "        print(f\"Section {section}, Request: {request}\")"
   ]
  },
  {
   "cell_type": "markdown",
   "id": "840bbb0e",
   "metadata": {},
   "source": [
    "5. Call the `add_special_request` function for the \"Reptiles\" section without specifying a request."
   ]
  },
  {
   "cell_type": "code",
   "execution_count": 14,
   "id": "7653f027",
   "metadata": {},
   "outputs": [
    {
     "name": "stdout",
     "output_type": "stream",
     "text": [
      "no special requests have been made for this section\n"
     ]
    }
   ],
   "source": [
    "add_special_request(section=\"Reptiles\")"
   ]
  },
  {
   "cell_type": "markdown",
   "id": "6eeb76bd",
   "metadata": {},
   "source": [
    "6. Call the `add_special_request` function for the \"Mammals\" section with a special request of \"Wheelchair Access\"."
   ]
  },
  {
   "cell_type": "code",
   "execution_count": 15,
   "id": "1bfa8f23",
   "metadata": {},
   "outputs": [
    {
     "name": "stdout",
     "output_type": "stream",
     "text": [
      "Section Mammals, Request: Wheelchair Access\n"
     ]
    }
   ],
   "source": [
    "add_special_request(\"Mammals\", \"Wheelchair Access\")"
   ]
  },
  {
   "cell_type": "markdown",
   "id": "63bd9a24",
   "metadata": {},
   "source": [
    "### **04. Function Return Values**"
   ]
  },
  {
   "cell_type": "markdown",
   "id": "6c02cf4c",
   "metadata": {},
   "source": [
    "1. Update the function `celsius_to_fahrenheit` to check if the input is either an integer or a float. If the input is not a number, print an error message and return `None`. Otherwise, calculate and return the equivalent temperature in Fahrenheit using the formula: Fahrenheit = (Celsius * 9/5) + 32."
   ]
  },
  {
   "cell_type": "code",
   "execution_count": 18,
   "id": "fb1ebec1",
   "metadata": {},
   "outputs": [],
   "source": [
    "def celsius_to_fahrenheit(degree):\n",
    "    if(type(degree)!=int and type(degree)!=float):\n",
    "        print(\"Unvalid input.\")\n",
    "        return None\n",
    "    else:\n",
    "        return (degree * 9 / 5) + 32"
   ]
  },
  {
   "cell_type": "markdown",
   "id": "5c53069a",
   "metadata": {},
   "source": [
    "2. Revise the function `fahrenheit_to_celsius` in the same manner to validate the input. If the input is valid, use the formula: Celsius = (Fahrenheit - 32) * 5/9 to calculate and return the equivalent temperature in Celsius."
   ]
  },
  {
   "cell_type": "code",
   "execution_count": 17,
   "id": "afabdd08",
   "metadata": {},
   "outputs": [],
   "source": [
    "def fahrenheit_to_celsius(degree):\n",
    "    if(type(degree)!=int and type(degree)!=float):\n",
    "        print(\"Unvalid input.\")\n",
    "        return None\n",
    "    else:\n",
    "        return (degree - 32) * (5 / 9)"
   ]
  },
  {
   "cell_type": "markdown",
   "id": "304c4580",
   "metadata": {},
   "source": [
    "3. Modify the function `water_state` to ensure the input is a number (either an integer or a float). The function should return \"Solid\" if the temperature is below 0, \"Liquid\" if the temperature is between 0 and 100 inclusive, and \"Gas\" if the temperature is above 100. For non-numeric inputs, print an error message and return `None`."
   ]
  },
  {
   "cell_type": "code",
   "execution_count": 19,
   "id": "8eda1d56",
   "metadata": {},
   "outputs": [],
   "source": [
    "def water_state(degree):\n",
    "    if(type(degree)!=int and type(degree)!=float):\n",
    "        print(\"Unvalid input.\")\n",
    "        return None\n",
    "    else:\n",
    "        if degree < 0:\n",
    "            print(\"Solid\")\n",
    "        elif degree >=0 and degree < 100:\n",
    "            print(\"Liquid\")\n",
    "        else:\n",
    "            print(\"Gas\")"
   ]
  },
  {
   "cell_type": "markdown",
   "id": "31909a52",
   "metadata": {},
   "source": [
    "4. Call `celsius_to_fahrenheit` with a valid value (e.g., 100) and an invalid value (e.g., \"hot\") and print the results."
   ]
  },
  {
   "cell_type": "code",
   "execution_count": 21,
   "id": "e11da71d",
   "metadata": {},
   "outputs": [
    {
     "name": "stdout",
     "output_type": "stream",
     "text": [
      "75.2\n",
      "Unvalid input.\n",
      "None\n"
     ]
    }
   ],
   "source": [
    "print(celsius_to_fahrenheit(24))\n",
    "print(celsius_to_fahrenheit('HOT'))"
   ]
  },
  {
   "cell_type": "markdown",
   "id": "5042f6e2",
   "metadata": {},
   "source": [
    "5. Call `fahrenheit_to_celsius` with a valid value (e.g., 32) and an invalid value (e.g., \"cold\") and print the results."
   ]
  },
  {
   "cell_type": "code",
   "execution_count": 22,
   "id": "244aea67",
   "metadata": {},
   "outputs": [
    {
     "name": "stdout",
     "output_type": "stream",
     "text": [
      "32.22222222222222\n",
      "Unvalid input.\n",
      "None\n"
     ]
    }
   ],
   "source": [
    "print(fahrenheit_to_celsius(90))\n",
    "print(fahrenheit_to_celsius('cold'))"
   ]
  },
  {
   "cell_type": "markdown",
   "id": "b81230cf",
   "metadata": {},
   "source": [
    "6. Call `water_state` with a valid value (e.g., 25) and an invalid value (e.g., \"warm\") and print the results."
   ]
  },
  {
   "cell_type": "code",
   "execution_count": 24,
   "id": "bf69ac3b",
   "metadata": {},
   "outputs": [
    {
     "name": "stdout",
     "output_type": "stream",
     "text": [
      "Liquid\n",
      "Unvalid input.\n"
     ]
    }
   ],
   "source": [
    "water_state(99.8)\n",
    "water_state('warm')"
   ]
  },
  {
   "cell_type": "markdown",
   "id": "3fa7bba7",
   "metadata": {},
   "source": [
    "### **06. Function Documentation**"
   ]
  },
  {
   "cell_type": "markdown",
   "id": "7301b8d0",
   "metadata": {},
   "source": [
    "1. **Write the Function**:\n",
    "   - Define a function named `calculate_rectangle_area` that takes two parameters, `width` and `height`, which represent the dimensions of a rectangle."
   ]
  },
  {
   "cell_type": "markdown",
   "id": "2085763f",
   "metadata": {},
   "source": [
    "2. **Add a Docstring**:\n",
    "   - Write a docstring for the `calculate_rectangle_area` function. Make sure to include:\n",
    "      - A brief description of what the function does.\n",
    "      - Descriptions of the parameters `width` and `height`.\n",
    "      - The expected return value description."
   ]
  },
  {
   "cell_type": "markdown",
   "id": "c3c1d1d3",
   "metadata": {},
   "source": [
    "3. **Include Type Hints**:\n",
    "   - Add type hints to the function's parameters and return value. Assume the dimensions will be passed as floating-point numbers and the function will return the area as a floating-point number."
   ]
  },
  {
   "cell_type": "code",
   "execution_count": 4,
   "id": "68fd387f",
   "metadata": {},
   "outputs": [],
   "source": [
    "def calculate_rectangle_area(width: float, height: float) -> float:\n",
    "    \"\"\"This function calculates the area of a rectangle\n",
    "\n",
    "    parameters:\n",
    "    width (float) and height (float), inputs the diameters of the rectangle\n",
    "    \n",
    "    return (float): returns the value of rectangle area \n",
    "    \"\"\"\n",
    "    return width*height"
   ]
  },
  {
   "cell_type": "markdown",
   "id": "0d770296",
   "metadata": {},
   "source": [
    "4. **Access the Docstring**:\n",
    "   - Write code that prints the docstring of the `calculate_rectangle_area` function using both the `help()` function and the `.__doc__` attribute.\n"
   ]
  },
  {
   "cell_type": "code",
   "execution_count": 5,
   "id": "25da209a",
   "metadata": {},
   "outputs": [
    {
     "name": "stdout",
     "output_type": "stream",
     "text": [
      "Help on function calculate_rectangle_area in module __main__:\n",
      "\n",
      "calculate_rectangle_area(width: float, height: float) -> float\n",
      "    This function calculates the area of a rectangle\n",
      "\n",
      "    parameters:\n",
      "    width (float) and height (float), inputs the diameters of the rectangle\n",
      "\n",
      "    return (float): returns the value of rectangle area\n",
      "\n"
     ]
    },
    {
     "data": {
      "text/plain": [
       "'This function calculates the area of a rectangle\\n\\n    parameters:\\n    width (float) and height (float), inputs the diameters of the rectangle\\n\\n    return (float): returns the value of rectangle area \\n    '"
      ]
     },
     "execution_count": 5,
     "metadata": {},
     "output_type": "execute_result"
    }
   ],
   "source": [
    "help(calculate_rectangle_area)\n",
    "calculate_rectangle_area.__doc__"
   ]
  },
  {
   "cell_type": "markdown",
   "id": "fbe6c33e",
   "metadata": {},
   "source": [
    "5. **Bonus: Explore Docstring Styles**:\n",
    "   - Choose one of the docstring styles mentioned in the lecture (Google, NumPy/SciPy, reStructuredText, Epytext) and rewrite the docstring of your function to match that style."
   ]
  },
  {
   "cell_type": "code",
   "execution_count": 6,
   "id": "9c94ead0",
   "metadata": {},
   "outputs": [],
   "source": [
    "def calculate_rectangle_area(width: float, height: float) -> float:\n",
    "    \"\"\"\n",
    "    This function calculates the area of a rectangle.\n",
    "\n",
    "    Args:\n",
    "        width (float): The width of the rectangle.\n",
    "        height (float): The height of the rectangle.\n",
    "    \n",
    "    Returns: \n",
    "        The value of rectangle area.\n",
    "    \"\"\"\n",
    "    return width*height"
   ]
  },
  {
   "cell_type": "markdown",
   "id": "fc55f5d3",
   "metadata": {},
   "source": [
    "### **- 07. Lambda Functions**"
   ]
  },
  {
   "cell_type": "markdown",
   "id": "6baa35e1",
   "metadata": {},
   "source": [
    "1. **Create a Simple Lambda Function**:\n",
    "   - Write a lambda function that takes a single argument `x` and returns the square of `x`. Demonstrate its use by passing a number and printing the result."
   ]
  },
  {
   "cell_type": "code",
   "execution_count": 7,
   "id": "65495e46",
   "metadata": {},
   "outputs": [
    {
     "name": "stdout",
     "output_type": "stream",
     "text": [
      "25\n"
     ]
    }
   ],
   "source": [
    "square_lambda_func = lambda x: x**2\n",
    "print(square_lambda_func(5))"
   ]
  },
  {
   "cell_type": "markdown",
   "id": "2aa6693d",
   "metadata": {},
   "source": [
    "2. **Lambda with Multiple Arguments**:\n",
    "   - Define a lambda function that takes two arguments, `a` and `b`, and returns their product. Use the function to calculate the product of two numbers and print the result."
   ]
  },
  {
   "cell_type": "code",
   "execution_count": 8,
   "id": "62164d3e",
   "metadata": {},
   "outputs": [
    {
     "name": "stdout",
     "output_type": "stream",
     "text": [
      "15\n"
     ]
    }
   ],
   "source": [
    "product_lambda_func = lambda x,y: x*y\n",
    "print(product_lambda_func(3,5))"
   ]
  },
  {
   "cell_type": "markdown",
   "id": "b0a8d854",
   "metadata": {},
   "source": [
    "3. **Combining Lambda with `filter()`**:\n",
    "   - Given the list of ages, use a lambda function with the `filter()` function to create a list of all ages that are 18 or above (legal adulthood). Print the filtered list.\n",
    "\n",
    "   ```python\n",
    "   ages = [14, 18, 21, 16, 30, 45, 17, 22, 61]\n",
    "   ```"
   ]
  },
  {
   "cell_type": "code",
   "execution_count": 11,
   "id": "c78bb138",
   "metadata": {},
   "outputs": [
    {
     "name": "stdout",
     "output_type": "stream",
     "text": [
      "[18, 21, 30, 45, 22, 61]\n"
     ]
    }
   ],
   "source": [
    "ages = [14, 18, 21, 16, 30, 45, 17, 22, 61]\n",
    "print(list(filter(lambda x:x>=18, ages)))"
   ]
  },
  {
   "cell_type": "markdown",
   "id": "34b6ca18",
   "metadata": {},
   "source": [
    "4. **Using Lambda with `map()`**:\n",
    "   - You have a list of prices in dollars. Use a lambda function with `map()` to apply a 10% discount to each price. Print the list of discounted prices.\n",
    "\n",
    "   ```python\n",
    "   prices = [19.99, 35.50, 89.99, 43.75]\n",
    "   ```"
   ]
  },
  {
   "cell_type": "code",
   "execution_count": 12,
   "id": "a3bd5594",
   "metadata": {},
   "outputs": [
    {
     "name": "stdout",
     "output_type": "stream",
     "text": [
      "[17.991, 31.95, 80.991, 39.375]\n"
     ]
    }
   ],
   "source": [
    "prices = [19.99, 35.50, 89.99, 43.75]\n",
    "print(list(map(lambda x:x*0.9, prices)))"
   ]
  },
  {
   "cell_type": "markdown",
   "id": "b5861b50",
   "metadata": {},
   "source": [
    "5. **Lambda with Built-in Functions - Sorting**:\n",
    "   - You have a list of tuples where each tuple contains the name of a product and its corresponding price. Use a lambda function as a key argument to the `sorted()` function to sort these products by price in ascending order. Print the sorted list.\n",
    "\n",
    "   ```python\n",
    "   products = [('apple', 1.0), ('banana', 0.5), ('cherry', 1.5), ('date', 0.75)]\n",
    "   ```"
   ]
  },
  {
   "cell_type": "code",
   "execution_count": 16,
   "id": "0a2cc5e1",
   "metadata": {},
   "outputs": [
    {
     "name": "stdout",
     "output_type": "stream",
     "text": [
      "[('banana', 0.5), ('date', 0.75), ('apple', 1.0), ('cherry', 1.5)]\n"
     ]
    }
   ],
   "source": [
    "products = [('apple', 1.0), ('banana', 0.5), ('cherry', 1.5), ('date', 0.75)]\n",
    "print(sorted(products, key=lambda x:x[1]))"
   ]
  },
  {
   "cell_type": "markdown",
   "id": "d5f885fc",
   "metadata": {},
   "source": [
    "6. **Bonus: Lambda for Custom Sorting**:\n",
    "   - Imagine you have a list of dictionaries where each dictionary contains information about a book, specifically its title and the year it was published. Write a lambda function to sort the list of books by year of publication, from the oldest to the newest. Print the sorted list.\n",
    "\n",
    "   ```python\n",
    "   books = [\n",
    "       {'title': 'Book A', 'year': 2001},\n",
    "       {'title': 'Book B', 'year': 1999},\n",
    "       {'title': 'Book C', 'year': 2010},\n",
    "       {'title': 'Book D', 'year': 1985}\n",
    "   ]\n",
    "   ```"
   ]
  },
  {
   "cell_type": "code",
   "execution_count": 17,
   "id": "73e51edd",
   "metadata": {},
   "outputs": [
    {
     "name": "stdout",
     "output_type": "stream",
     "text": [
      "[{'title': 'Book D', 'year': 1985}, {'title': 'Book B', 'year': 1999}, {'title': 'Book A', 'year': 2001}, {'title': 'Book C', 'year': 2010}]\n"
     ]
    }
   ],
   "source": [
    "books = [\n",
    "       {'title': 'Book A', 'year': 2001},\n",
    "       {'title': 'Book B', 'year': 1999},\n",
    "       {'title': 'Book C', 'year': 2010},\n",
    "       {'title': 'Book D', 'year': 1985}\n",
    "   ]\n",
    "\n",
    "print(sorted(books, key=lambda x:x['year']))"
   ]
  },
  {
   "cell_type": "markdown",
   "id": "cca9833d",
   "metadata": {},
   "source": [
    "### **- 08. Built-in Functions**"
   ]
  },
  {
   "cell_type": "markdown",
   "id": "9e4a50e4",
   "metadata": {},
   "source": [
    "**Given Data:**\n"
   ]
  },
  {
   "cell_type": "code",
   "execution_count": 18,
   "id": "eba643c2",
   "metadata": {},
   "outputs": [],
   "source": [
    "text = \"The quick brown fox jumps over the lazy dog\"\n",
    "numbers_list = [8, 23, 45, 12, 78]\n",
    "mixed_list = [\"hello\", 10, \"world\", 42]"
   ]
  },
  {
   "cell_type": "markdown",
   "id": "c728a807",
   "metadata": {},
   "source": [
    "1. **String Analysis**:\n",
    "   - Find and print the number of characters in the `text` string using a built-in function.\n",
    "   - Convert the `text` string to uppercase and print the result."
   ]
  },
  {
   "cell_type": "code",
   "execution_count": 20,
   "id": "d36e5d76",
   "metadata": {},
   "outputs": [
    {
     "name": "stdout",
     "output_type": "stream",
     "text": [
      "43\n",
      "THE QUICK BROWN FOX JUMPS OVER THE LAZY DOG\n"
     ]
    }
   ],
   "source": [
    "print(len(text))\n",
    "text = text.upper()\n",
    "print(text)"
   ]
  },
  {
   "cell_type": "markdown",
   "id": "a604cfdd",
   "metadata": {},
   "source": [
    "2. **Numeric Calculations**:\n",
    "   - Calculate and print the sum of all the numbers in `numbers_list`.\n",
    "   - Find and print the maximum and minimum numbers in `numbers_list`."
   ]
  },
  {
   "cell_type": "code",
   "execution_count": 21,
   "id": "1bdbbdc5",
   "metadata": {},
   "outputs": [
    {
     "name": "stdout",
     "output_type": "stream",
     "text": [
      "166 8 78\n"
     ]
    }
   ],
   "source": [
    "print(sum(numbers_list), min(numbers_list), max(numbers_list))"
   ]
  },
  {
   "cell_type": "markdown",
   "id": "877ae86d",
   "metadata": {},
   "source": [
    "3. **List Manipulation**:\n",
    "   - Use a built-in function to count the number of times the number `10` appears in `mixed_list`.\n",
    "   - Print a sorted version of `numbers_list` in descending order without modifying the original list."
   ]
  },
  {
   "cell_type": "code",
   "execution_count": 27,
   "id": "dfb6af0c",
   "metadata": {},
   "outputs": [
    {
     "name": "stdout",
     "output_type": "stream",
     "text": [
      "1\n"
     ]
    }
   ],
   "source": [
    "print(mixed_list.count(10))"
   ]
  },
  {
   "cell_type": "markdown",
   "id": "8f157aaa",
   "metadata": {},
   "source": [
    "4. **Iterating with Built-in Functions**:\n",
    "   - Use a built-in function to iterate over `text` and print each word, but only if the word is not \"the\".\n",
    "   - Apply a built-in function to `numbers_list` to create a new list where each number is squared (i.e., number^2). Print the new list."
   ]
  },
  {
   "cell_type": "code",
   "execution_count": 31,
   "id": "32fc325e",
   "metadata": {},
   "outputs": [
    {
     "name": "stdout",
     "output_type": "stream",
     "text": [
      "quick\n",
      "brown\n",
      "fox\n",
      "jumps\n",
      "over\n",
      "lazy\n",
      "dog\n",
      "[64, 529, 2025, 144, 6084]\n"
     ]
    }
   ],
   "source": [
    "for word in filter(lambda x:x != 'the',text.lower().split()):\n",
    "    print(word)\n",
    "\n",
    "squared_numbers_list = map(lambda x:x**2,numbers_list)\n",
    "print(list(squared_numbers_list))"
   ]
  }
 ],
 "metadata": {
  "kernelspec": {
   "display_name": "temp",
   "language": "python",
   "name": "python3"
  },
  "language_info": {
   "codemirror_mode": {
    "name": "ipython",
    "version": 3
   },
   "file_extension": ".py",
   "mimetype": "text/x-python",
   "name": "python",
   "nbconvert_exporter": "python",
   "pygments_lexer": "ipython3",
   "version": "3.12.11"
  }
 },
 "nbformat": 4,
 "nbformat_minor": 5
}
