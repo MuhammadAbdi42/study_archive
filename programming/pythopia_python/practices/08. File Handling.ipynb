{
 "cells": [
  {
   "cell_type": "markdown",
   "id": "9153a298",
   "metadata": {},
   "source": [
    "## **08. File Handling**"
   ]
  },
  {
   "cell_type": "markdown",
   "id": "8081717f",
   "metadata": {},
   "source": [
    "### **- 01. Introduction to File Handling**"
   ]
  },
  {
   "cell_type": "markdown",
   "id": "3db8f4ec",
   "metadata": {},
   "source": [
    "[Sample Data]"
   ]
  },
  {
   "cell_type": "code",
   "execution_count": null,
   "id": "d3406da0",
   "metadata": {},
   "outputs": [
    {
     "name": "stdout",
     "output_type": "stream",
     "text": [
      "mkdir: cannot create directory ‘08. File Handling’: File exists\n"
     ]
    }
   ],
   "source": [
    "!mkdir \"08. File Handling\"\n",
    "\n",
    "with open(\"08. File Handling/example.txt\", \"w\", encoding=\"utf-8\") as f:\n",
    "        f.write(\n",
    "            \"\"\"\n",
    "            Ada Lovelace\n",
    "            Nelson Mandela\n",
    "            Frida Kahlo\n",
    "            Alan Turing\n",
    "            Serena Williams\n",
    "            Akira Kurosawa\n",
    "            Malala Yousafzai\n",
    "            Elon Musk\n",
    "            Maya Angelou\n",
    "            Bruce Lee\n",
    "            \"\"\"\n",
    "        )"
   ]
  },
  {
   "cell_type": "markdown",
   "id": "d8fe6c91",
   "metadata": {},
   "source": [
    "1. **Read from a Text File**:\n",
    "   - Given a text file named `example.txt` with some content, write a Python script to open the file in read mode and print its contents to the console."
   ]
  },
  {
   "cell_type": "code",
   "execution_count": null,
   "id": "e8e69ea2",
   "metadata": {},
   "outputs": [
    {
     "name": "stdout",
     "output_type": "stream",
     "text": [
      "\n",
      "            Ada Lovelace\n",
      "            Nelson Mandela\n",
      "            Frida Kahlo\n",
      "            Alan Turing\n",
      "            Serena Williams\n",
      "            Akira Kurosawa\n",
      "            Malala Yousafzai\n",
      "            Elon Musk\n",
      "            Maya Angelou\n",
      "            Bruce Lee\n",
      "            \n"
     ]
    }
   ],
   "source": [
    "with open(\"08. File Handling/example.txt\", \"r\") as f:\n",
    "    example_file_content = f.read()\n",
    "    print(example_file_content)"
   ]
  },
  {
   "cell_type": "markdown",
   "id": "acb44b98",
   "metadata": {},
   "source": [
    "2. **Write to a Text File**:\n",
    "   - Create a new text file named `output.txt` and write multiple lines of text to it using Python. Then, reopen the file in read mode and print its contents to verify that the writing was successful."
   ]
  },
  {
   "cell_type": "code",
   "execution_count": null,
   "id": "a9bdb103",
   "metadata": {},
   "outputs": [
    {
     "name": "stdout",
     "output_type": "stream",
     "text": [
      "\n",
      "    Apple\n",
      "    Mango\n",
      "    Banana\n",
      "    Pineapple\n",
      "    Strawberry\n",
      "    Grapes\n",
      "    Orange\n",
      "    Watermelon\n",
      "    Kiwi\n",
      "    Peach\n",
      "    \n"
     ]
    }
   ],
   "source": [
    "with open(\"08. File Handling/output.txt\", \"w\", encoding=\"utf-8\") as f:\n",
    "    f.write(\"\"\"\n",
    "    Apple\n",
    "    Mango\n",
    "    Banana\n",
    "    Pineapple\n",
    "    Strawberry\n",
    "    Grapes\n",
    "    Orange\n",
    "    Watermelon\n",
    "    Kiwi\n",
    "    Peach\n",
    "    \"\"\")\n",
    "\n",
    "with open(\"08. File Handling/output.txt\", \"r\", encoding=\"utf-8\") as f:\n",
    "    example_file_content = f.read()\n",
    "    print(example_file_content)"
   ]
  },
  {
   "cell_type": "markdown",
   "id": "164fb9ae",
   "metadata": {},
   "source": [
    "3. **Append to a Text File**:\n",
    "   - Reopen the `output.txt` file in append mode and add a new line of text. After appending, read and print the entire file to see the updated contents."
   ]
  },
  {
   "cell_type": "code",
   "execution_count": null,
   "id": "926bd83c",
   "metadata": {},
   "outputs": [
    {
     "name": "stdout",
     "output_type": "stream",
     "text": [
      "\n",
      "    Apple\n",
      "    Mango\n",
      "    Banana\n",
      "    Pineapple\n",
      "    Strawberry\n",
      "    Grapes\n",
      "    Orange\n",
      "    Watermelon\n",
      "    Kiwi\n",
      "    Peach\n",
      "    Avacado\n"
     ]
    }
   ],
   "source": [
    "with open(\"08. File Handling/output.txt\", \"a\", encoding=\"utf-8\") as f:\n",
    "    f.write(\"Avacado\")\n",
    "\n",
    "with open(\"08. File Handling/output.txt\", \"r\", encoding=\"utf-8\") as f:\n",
    "    example_file_content = f.read()\n",
    "    print(example_file_content)"
   ]
  },
  {
   "cell_type": "markdown",
   "id": "4248d3cb",
   "metadata": {},
   "source": [
    "4. **Using the `with` Statement**:\n",
    "   - Modify the previous tasks to use the `with` statement to ensure that the file is properly closed after the operations are completed.\n"
   ]
  },
  {
   "cell_type": "code",
   "execution_count": null,
   "id": "88e476e4",
   "metadata": {},
   "outputs": [],
   "source": [
    "### Already Done"
   ]
  },
  {
   "cell_type": "markdown",
   "id": "91fa3f94",
   "metadata": {},
   "source": [
    "5. **Bonus: Type Hinting and Docstrings**:\n",
    "   - Write a function that takes a file name and a mode as parameters, opens the file with the given mode, and prints its contents. Include a docstring that explains the function's purpose, parameters, and behavior. Also, use type hints to indicate the types of the parameters."
   ]
  },
  {
   "cell_type": "code",
   "execution_count": null,
   "id": "5d313a4c",
   "metadata": {},
   "outputs": [],
   "source": [
    "def file_opener(file_path: str, open_mode: str) -> None:\n",
    "    \"\"\"\n",
    "    Opens the file in the desired mode and prints its content.\n",
    "\n",
    "    Args:\n",
    "        filepath (string): The path to the file.\n",
    "        mode (string): The mode which the file should be opened with.\n",
    "            valid values: \"r\", \"w\", \"a\", \"b\", \"r+\", \"w+\", \"a+\", \"r+b\", \"w+b\", \"a+b\"\n",
    "\n",
    "    Returns:\n",
    "        None \n",
    "    \"\"\"\n",
    "    with open(file_path, open_mode) as f:\n",
    "        file_content = f.read()\n",
    "        print(file_content)"
   ]
  },
  {
   "cell_type": "markdown",
   "id": "57586126",
   "metadata": {},
   "source": [
    "### **- 02. Reading From Files**"
   ]
  },
  {
   "cell_type": "code",
   "execution_count": null,
   "id": "72d25bb6",
   "metadata": {},
   "outputs": [],
   "source": [
    "with open(\"08. File Handling/sample.txt\", \"w\", encoding=\"utf-8\") as f:\n",
    "    f.write(\"\"\"\n",
    "    Python is a high-level, interpreted programming language known for its simplicity and readability. It was created by Guido van Rossum and first released in 1991. Python emphasizes clear syntax and reduces the need for complex boilerplate code, making it popular among both beginners and experienced developers.\n",
    "\n",
    "    One of Python’s strengths is its versatility: it can be used for web development, data science, machine learning, automation, scientific computing, and more. Its large standard library and active community provide countless packages and frameworks that extend its capabilities, such as NumPy for numerical computing, Django for web development, and TensorFlow for machine learning.\n",
    "\n",
    "    Because of its ease of use and wide range of applications, Python has become one of the most widely used programming languages in the world today.\n",
    "    \"\"\")"
   ]
  },
  {
   "cell_type": "markdown",
   "id": "8f72729d",
   "metadata": {},
   "source": [
    "1. **Read Entire File Content**:\n",
    "   - Write a Python script to open `sample.txt` in read mode and use the `read()` method to read the entire file content. Print the content and handle any exceptions that might occur."
   ]
  },
  {
   "cell_type": "code",
   "execution_count": null,
   "id": "083e7332",
   "metadata": {},
   "outputs": [
    {
     "name": "stdout",
     "output_type": "stream",
     "text": [
      "\n",
      "    Python is a high-level, interpreted programming language known for its simplicity and readability. It was created by Guido van Rossum and first released in 1991. Python emphasizes clear syntax and reduces the need for complex boilerplate code, making it popular among both beginners and experienced developers.\n",
      "\n",
      "    One of Python’s strengths is its versatility: it can be used for web development, data science, machine learning, automation, scientific computing, and more. Its large standard library and active community provide countless packages and frameworks that extend its capabilities, such as NumPy for numerical computing, Django for web development, and TensorFlow for machine learning.\n",
      "\n",
      "    Because of its ease of use and wide range of applications, Python has become one of the most widely used programming languages in the world today.\n",
      "    \n"
     ]
    }
   ],
   "source": [
    "with open(\"08. File Handling/sample.txt\", \"r\", encoding=\"utf-8\") as f:\n",
    "    example_file_content = f.read()\n",
    "    print(example_file_content)"
   ]
  },
  {
   "cell_type": "markdown",
   "id": "682a1604",
   "metadata": {},
   "source": [
    "2. **Read File Line by Line**:\n",
    "   - Modify your script to open `sample.txt` and use the `readline()` method in a loop to read each line one at a time. Print each line as it is read, and ensure all lines are read from the file."
   ]
  },
  {
   "cell_type": "code",
   "execution_count": null,
   "id": "ab5aeb6d",
   "metadata": {},
   "outputs": [
    {
     "name": "stdout",
     "output_type": "stream",
     "text": [
      "    Python is a high-level, interpreted programming language known for its simplicity and readability. It was created by Guido van Rossum and first released in 1991. Python emphasizes clear syntax and reduces the need for complex boilerplate code, making it popular among both beginners and experienced developers.\n",
      "\n",
      "    One of Python’s strengths is its versatility: it can be used for web development, data science, machine learning, automation, scientific computing, and more. Its large standard library and active community provide countless packages and frameworks that extend its capabilities, such as NumPy for numerical computing, Django for web development, and TensorFlow for machine learning.\n",
      "\n",
      "    Because of its ease of use and wide range of applications, Python has become one of the most widely used programming languages in the world today.\n",
      "\n",
      "\n"
     ]
    }
   ],
   "source": [
    "with open(\"08. File Handling/sample.txt\", \"r\", encoding=\"utf-8\") as f:\n",
    "    for line in f:\n",
    "        print(f.readline())"
   ]
  },
  {
   "cell_type": "markdown",
   "id": "2f617aaa",
   "metadata": {},
   "source": [
    "3. **Read All Lines into a List**:\n",
    "   - Adjust your script to open `sample.txt` and use the `readlines()` method to read all lines into a list. Then, iterate over the list and print each line with its line number (starting from 1)."
   ]
  },
  {
   "cell_type": "code",
   "execution_count": null,
   "id": "91241fdd",
   "metadata": {},
   "outputs": [
    {
     "name": "stdout",
     "output_type": "stream",
     "text": [
      "\n",
      "\n",
      "    Python is a high-level, interpreted programming language known for its simplicity and readability. It was created by Guido van Rossum and first released in 1991. Python emphasizes clear syntax and reduces the need for complex boilerplate code, making it popular among both beginners and experienced developers.\n",
      "\n",
      "\n",
      "\n",
      "    One of Python’s strengths is its versatility: it can be used for web development, data science, machine learning, automation, scientific computing, and more. Its large standard library and active community provide countless packages and frameworks that extend its capabilities, such as NumPy for numerical computing, Django for web development, and TensorFlow for machine learning.\n",
      "\n",
      "\n",
      "\n",
      "    Because of its ease of use and wide range of applications, Python has become one of the most widely used programming languages in the world today.\n",
      "\n",
      "    \n"
     ]
    }
   ],
   "source": [
    "with open(\"08. File Handling/sample.txt\", \"r\", encoding=\"utf-8\") as f:\n",
    "    example_file_content = f.readlines()\n",
    "\n",
    "for line in example_file_content:\n",
    "    print(line)"
   ]
  },
  {
   "cell_type": "markdown",
   "id": "96c58dfc",
   "metadata": {},
   "source": [
    "4. **Efficient Line-by-Line Iteration**:\n",
    "   - Use a `for` loop to iterate over the file object and read `sample.txt` line by line efficiently. Print each line, preceded by the line number."
   ]
  },
  {
   "cell_type": "code",
   "execution_count": null,
   "id": "5a7db602",
   "metadata": {},
   "outputs": [],
   "source": [
    "### Done in exercise 1."
   ]
  },
  {
   "cell_type": "markdown",
   "id": "27e6eefd",
   "metadata": {},
   "source": [
    "5. **Bonus: Working with Different File Paths**:\n",
    "   - Modify your script to prompt the user for a file path to read from. Ensure that your script handles the case when the file at the given path does not exist by printing a friendly error message."
   ]
  },
  {
   "cell_type": "code",
   "execution_count": null,
   "id": "2de40101",
   "metadata": {},
   "outputs": [
    {
     "name": "stdout",
     "output_type": "stream",
     "text": [
      "\n",
      "\n",
      "    Python is a high-level, interpreted programming language known for its simplicity and readability. It was created by Guido van Rossum and first released in 1991. Python emphasizes clear syntax and reduces the need for complex boilerplate code, making it popular among both beginners and experienced developers.\n",
      "\n",
      "\n",
      "\n",
      "    One of Python’s strengths is its versatility: it can be used for web development, data science, machine learning, automation, scientific computing, and more. Its large standard library and active community provide countless packages and frameworks that extend its capabilities, such as NumPy for numerical computing, Django for web development, and TensorFlow for machine learning.\n",
      "\n",
      "\n",
      "\n",
      "    Because of its ease of use and wide range of applications, Python has become one of the most widely used programming languages in the world today.\n",
      "\n",
      "    \n"
     ]
    }
   ],
   "source": [
    "file_path = input(\"File path: \")\n",
    "\n",
    "with open(file_path, 'r') as f:\n",
    "    for line in f:\n",
    "        print(f\"{line}\")"
   ]
  },
  {
   "cell_type": "markdown",
   "id": "2db8d7f0",
   "metadata": {},
   "source": [
    "### **- 03. Writing to Files**"
   ]
  },
  {
   "cell_type": "markdown",
   "id": "0b9e2aca",
   "metadata": {},
   "source": [
    "1. **Create a New Note**:\n",
    "   - Write a function `create_note()` that takes a filename and a note (string) as parameters. The function should open the specified file in write mode and save the note to the file. If the file already exists, it should be overwritten."
   ]
  },
  {
   "cell_type": "code",
   "execution_count": null,
   "id": "8f50bc7a",
   "metadata": {},
   "outputs": [],
   "source": [
    "def create_note(filepath: str, note: str) -> None:\n",
    "    with open(filepath, \"w\", encoding=\"utf-8\") as f:\n",
    "        f.write(note)"
   ]
  },
  {
   "cell_type": "markdown",
   "id": "1b4e84d1",
   "metadata": {},
   "source": [
    "2. **Add to an Existing Note**:\n",
    "   - Write a function `add_to_note()` that takes a filename and a note (string) as parameters. The function should open the specified file in append mode and add the note to the end of the file."
   ]
  },
  {
   "cell_type": "code",
   "execution_count": null,
   "id": "da58e2b8",
   "metadata": {},
   "outputs": [],
   "source": [
    "def add_to_note(filepath: str, note: str) -> None:\n",
    "    with open(filepath, \"a\", encoding=\"utf-8\") as f:\n",
    "        f.write(note)"
   ]
  },
  {
   "cell_type": "markdown",
   "id": "1c2de28c",
   "metadata": {},
   "source": [
    "3. **Save Multiple Notes**:\n",
    "   - Write a function `save_notes()` that takes a filename and a list of notes. The function should use the `writelines()` method to write each note to the file. Ensure each note is on a new line."
   ]
  },
  {
   "cell_type": "code",
   "execution_count": null,
   "id": "7863559b",
   "metadata": {},
   "outputs": [],
   "source": [
    "def save_notes(filepath: str, notes: list) -> None:\n",
    "    with open(filepath, \"w\", encoding=\"utf-8\") as f:\n",
    "        f.writelines(note + '\\n' for note in notes)"
   ]
  },
  {
   "cell_type": "markdown",
   "id": "13c957be",
   "metadata": {},
   "source": [
    "4. **Generate a Summary Report**:\n",
    "   - After saving notes, write a function `generate_report()` that reads the file containing the notes and generates a report. The report should count the number of notes and summarize the content by showing the first 15 characters of each note. Save this report to a new file."
   ]
  },
  {
   "cell_type": "code",
   "execution_count": null,
   "id": "d784a59e",
   "metadata": {},
   "outputs": [],
   "source": [
    "def generate_report(filepath: str) -> None:\n",
    "    with open(filepath, \"r\", encoding=\"utf-8\") as f:\n",
    "        notes = f.readlines()\n",
    "    print(f\"Number of notes: {len(notes)}\")\n",
    "    for ind, note in enumerate(notes):\n",
    "        first_15_chars = \"\"\n",
    "        for ind, char in enumerate(note.strip()):\n",
    "            if ind == 15:\n",
    "                break\n",
    "            first_15_chars += char\n",
    "        print(f\"{ind+1}: {first_15_chars}\")\n"
   ]
  },
  {
   "cell_type": "markdown",
   "id": "92e5ebc9",
   "metadata": {},
   "source": [
    "5. **Bonus: Log Each Action**:\n",
    "   - Create a function `log_action()` that takes a log message and writes it to a log file with the current timestamp. Use this function to log every time a note is created, appended, or when a report is generated."
   ]
  },
  {
   "cell_type": "code",
   "execution_count": null,
   "id": "f56e8953",
   "metadata": {},
   "outputs": [],
   "source": [
    "import datetime\n",
    "\n",
    "def log_action(log: str) -> None:\n",
    "    timestamp = datetime.datetime.now().strftime(\"%Y-%m-%d %H:%M:%S\")\n",
    "    log_text = f\"{timestamp} - {log}\"\n",
    "    with open('logs.txt', 'a', encoding=\"utf-8\") as f:\n",
    "        f.write(log + '\\n')\n"
   ]
  }
 ],
 "metadata": {
  "kernelspec": {
   "display_name": "temp",
   "language": "python",
   "name": "python3"
  },
  "language_info": {
   "codemirror_mode": {
    "name": "ipython",
    "version": 3
   },
   "file_extension": ".py",
   "mimetype": "text/x-python",
   "name": "python",
   "nbconvert_exporter": "python",
   "pygments_lexer": "ipython3",
   "version": "3.12.11"
  }
 },
 "nbformat": 4,
 "nbformat_minor": 5
}
