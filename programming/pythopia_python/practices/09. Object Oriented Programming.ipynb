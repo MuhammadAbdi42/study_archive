{
 "cells": [
  {
   "cell_type": "markdown",
   "id": "42f433f9",
   "metadata": {},
   "source": [
    "## **09. Object Oriented Programming**"
   ]
  },
  {
   "cell_type": "markdown",
   "id": "a44447a1",
   "metadata": {},
   "source": [
    "### **- 04. Classes and Objects**"
   ]
  },
  {
   "cell_type": "markdown",
   "id": "3318c1ab",
   "metadata": {},
   "source": [
    "1. **Define a Simple `Book` Class**:\n",
    "   - Create a `Book` class with instance attributes for `title`, `author`, and `pages`.\n",
    "   - Define an instance method `description` that prints a description of the book including its title, author, and number of pages."
   ]
  },
  {
   "cell_type": "code",
   "execution_count": 1,
   "id": "f2fbe51a",
   "metadata": {},
   "outputs": [],
   "source": [
    "class Book:\n",
    "    book_count = 0\n",
    "\n",
    "    def __init__(self, title, author, pages):\n",
    "        self.title = title\n",
    "        self.author = author\n",
    "        self.pages = pages\n",
    "        Book.book_count += 1\n",
    "\n",
    "    def description(self):\n",
    "        print(f\"{self.title} by {self.author} ({self.pages} pages)\")\n",
    "\n",
    "    def is_long(self):\n",
    "        return self.pages > 500"
   ]
  },
  {
   "cell_type": "markdown",
   "id": "589ead36",
   "metadata": {},
   "source": [
    "2. **Instantiate an Object from the `Book` Class**:\n",
    "   - Create an instance of the `Book` class with the title \"Python Programming\", author \"John Doe\", and page count of 350.\n",
    "   - Call the `description` method on this instance to print the book's details."
   ]
  },
  {
   "cell_type": "code",
   "execution_count": 2,
   "id": "5bef4b27",
   "metadata": {},
   "outputs": [
    {
     "name": "stdout",
     "output_type": "stream",
     "text": [
      "Python Prgramming by John Doe (350 pages)\n"
     ]
    }
   ],
   "source": [
    "book_1 = Book('Python Prgramming', 'John Doe', 350)\n",
    "book_1.description()"
   ]
  },
  {
   "cell_type": "markdown",
   "id": "c4cafcff",
   "metadata": {},
   "source": [
    "3. **Use of `self`**:\n",
    "   - Explain, through comments in your code, why the `self` keyword is necessary in the `description` method of the `Book` class."
   ]
  },
  {
   "cell_type": "code",
   "execution_count": 3,
   "id": "54f2ffb1",
   "metadata": {},
   "outputs": [],
   "source": [
    "# Because every attribute in the class is only associated with an instance of the class,\n",
    "# so it's neccesary to be able to distinguish them via a self input, which reflects the instance."
   ]
  },
  {
   "cell_type": "markdown",
   "id": "d79345ad",
   "metadata": {},
   "source": [
    "4. **Incorporate the `__init__` Method**:\n",
    "   - Modify the `Book` class to include the `__init__` method for initializing new instances with the title, author, and pages attributes."
   ]
  },
  {
   "cell_type": "code",
   "execution_count": 4,
   "id": "521d00cf",
   "metadata": {},
   "outputs": [],
   "source": [
    "# Done in task 1"
   ]
  },
  {
   "cell_type": "markdown",
   "id": "ab363a74",
   "metadata": {},
   "source": [
    "5. **Class vs. Instance Attributes**:\n",
    "   - Add a class attribute `book_count` to keep track of the total number of book instances created.\n",
    "   - Increment the `book_count` inside the `__init__` method every time a new `Book` instance is created."
   ]
  },
  {
   "cell_type": "code",
   "execution_count": 5,
   "id": "f5068da6",
   "metadata": {},
   "outputs": [],
   "source": [
    "# Done in task 1"
   ]
  },
  {
   "cell_type": "markdown",
   "id": "ccd64f92",
   "metadata": {},
   "source": [
    "6. **Instantiating Multiple Objects**:\n",
    "   - Create two additional `Book` instances with different titles, authors, and page counts.\n",
    "   - Print out the `book_count` to show the total number of books created.\n"
   ]
  },
  {
   "cell_type": "code",
   "execution_count": 6,
   "id": "7705a4e4",
   "metadata": {},
   "outputs": [
    {
     "name": "stdout",
     "output_type": "stream",
     "text": [
      "3\n"
     ]
    }
   ],
   "source": [
    "book_2 = Book(\"Shahnameh\", \"Ferdowsi\", 1000)\n",
    "book_3 = Book(\"The Great Gatsby\", \"Fitzgerarld\", 350)\n",
    "\n",
    "print(Book.book_count)"
   ]
  },
  {
   "cell_type": "markdown",
   "id": "e33a8a5e",
   "metadata": {},
   "source": [
    "7. **Practical Example: Enhancing the `Book` Class**:\n",
    "   - Add a method `is_long` to the `Book` class that returns `True` if the book has more than 500 pages and `False` otherwise.\n",
    "   - Create a new `Book` instance with more than 500 pages and use the `is_long` method to check if the book is considered long."
   ]
  },
  {
   "cell_type": "code",
   "execution_count": 7,
   "id": "e80ca73e",
   "metadata": {},
   "outputs": [
    {
     "name": "stdout",
     "output_type": "stream",
     "text": [
      "True\n"
     ]
    }
   ],
   "source": [
    "book_4 = Book(\"A Song of Ice and Fire\", \"George R.R Martin\", 5232)\n",
    "print(book_4.is_long())"
   ]
  },
  {
   "cell_type": "markdown",
   "id": "c539026d",
   "metadata": {},
   "source": [
    "### **- 05. The `__init__` Method**"
   ]
  },
  {
   "cell_type": "markdown",
   "id": "3186b113",
   "metadata": {},
   "source": [
    "1. **Define the Classroom Class**:\n",
    "   Create a class named `Classroom` with an `__init__` method. Within the `__init__` method, define the following attributes:\n",
    "   - `teacher`: A string representing the name of the teacher.\n",
    "   - `students`: A list of strings representing the names of the students.\n",
    "   - `subject`: A string representing the subject being taught.\n",
    "   - `room_number`: An integer representing the classroom number.\n",
    "\n",
    "   Ensure that each of these attributes is passed as a parameter to the `__init__` method (besides `self`).\n"
   ]
  },
  {
   "cell_type": "code",
   "execution_count": 8,
   "id": "a6edb2c8",
   "metadata": {},
   "outputs": [],
   "source": [
    "class Classroom:\n",
    "    def __init__(self, teacher, *students, subject, room_number):\n",
    "        self.teacher = teacher\n",
    "        self.students = students\n",
    "        self.subject = subject\n",
    "        self.room_number = room_number\n",
    "\n",
    "    def display_info(self):\n",
    "        print(f\"{self.subject} Class - Prof. {self.teacher}\\nStudents: {\", \".join(self.students)}\\nClassroom: {self.room_number}\")"
   ]
  },
  {
   "cell_type": "markdown",
   "id": "4ea8326d",
   "metadata": {},
   "source": [
    "2. **Instantiate the Classroom**:\n",
    "   Create an instance of the `Classroom` class, passing in appropriate arguments for the teacher, students, subject, and room number. Assign this instance to a variable named `my_class`."
   ]
  },
  {
   "cell_type": "code",
   "execution_count": 9,
   "id": "2d8deb7a",
   "metadata": {},
   "outputs": [],
   "source": [
    "my_class = Classroom(\"Snape\", 'Potter', 'Wisley' , 'Malfoy', subject='Potions', room_number=14)"
   ]
  },
  {
   "cell_type": "markdown",
   "id": "308d9979",
   "metadata": {},
   "source": [
    "3. **Print Object Attributes**:\n",
    "   Write a method within the `Classroom` class that prints out all the attributes in a user-friendly format. Call this method `display_info` and invoke it on the `my_class` instance to display the details of your classroom."
   ]
  },
  {
   "cell_type": "code",
   "execution_count": 10,
   "id": "0dd87d0a",
   "metadata": {},
   "outputs": [
    {
     "name": "stdout",
     "output_type": "stream",
     "text": [
      "Potions Class - Prof. Snape\n",
      "Students: Potter, Wisley, Malfoy\n",
      "Classroom: 14\n"
     ]
    }
   ],
   "source": [
    "my_class.display_info()"
   ]
  },
  {
   "cell_type": "markdown",
   "id": "b37aee25",
   "metadata": {},
   "source": [
    "4. **Bonus: Dynamic Student List**:\n",
    "   Modify the `__init__` method to accept any number of student names using *args, and initialize the `students` attribute with these names. Test this feature by creating another instance of `Classroom` with a variable number of students."
   ]
  },
  {
   "cell_type": "code",
   "execution_count": 11,
   "id": "5690bbcc",
   "metadata": {},
   "outputs": [],
   "source": [
    "# Done in task 1"
   ]
  },
  {
   "cell_type": "markdown",
   "id": "d91b53bc",
   "metadata": {},
   "source": [
    "### **- 06. OOP Feature: Inheritance**"
   ]
  },
  {
   "cell_type": "markdown",
   "id": "d358ebab",
   "metadata": {},
   "source": [
    "1. **Define the Base Class**:\n",
    "   Create a base class called `Employee` with the following:\n",
    "   - Instance attributes: `name` and `email`.\n",
    "   - An `__init__` method that initializes the `name` and `email` attributes.\n",
    "   - A method called `get_info()` that prints the employee's name and email in a neat format."
   ]
  },
  {
   "cell_type": "code",
   "execution_count": 12,
   "id": "ac13fa3e",
   "metadata": {},
   "outputs": [],
   "source": [
    "class Employee():\n",
    "    def __init__(self, name, email) -> None:\n",
    "        self.name = name\n",
    "        self.email = email\n",
    "    \n",
    "    def get_info(self):\n",
    "        print(f\"Employee: {self.name}; Email: {self.email}\")"
   ]
  },
  {
   "cell_type": "markdown",
   "id": "ae1da99a",
   "metadata": {},
   "source": [
    "2. **Define a Subclass for Managers**:\n",
    "   Create a subclass called `Manager` that inherits from `Employee`. Add the following to the `Manager` class:\n",
    "   - An additional attribute called `department`.\n",
    "   - An overridden `__init__` method that initializes the `name`, `email`, and `department` using the `super()` function to initialize `name` and `email`.\n",
    "   - An overridden `get_info()` method that prints the manager's information, including the department."
   ]
  },
  {
   "cell_type": "code",
   "execution_count": 13,
   "id": "a7ca5117",
   "metadata": {},
   "outputs": [],
   "source": [
    "class Manager(Employee):\n",
    "    def __init__(self, name, email, department) -> None:\n",
    "        super().__init__(name, email)\n",
    "        self.department = department\n",
    "\n",
    "    def get_info(self):\n",
    "        print(f\"Manager of {self.department}\")\n",
    "        super().get_info()"
   ]
  },
  {
   "cell_type": "markdown",
   "id": "cd3b7805",
   "metadata": {},
   "source": [
    "3. **Instantiate and Test Classes**:\n",
    "   Create instances of both `Employee` and `Manager`, and call their `get_info()` methods to ensure they display the information correctly."
   ]
  },
  {
   "cell_type": "code",
   "execution_count": 14,
   "id": "862e8ab0",
   "metadata": {},
   "outputs": [
    {
     "name": "stdout",
     "output_type": "stream",
     "text": [
      "Employee: John; Email: john@apple.com\n",
      "Manager of LA\n",
      "Employee: Steve; Email: steve@apple.com\n"
     ]
    }
   ],
   "source": [
    "employee_1 = Employee('John', 'john@apple.com')\n",
    "employee_2 = Manager('Steve', 'steve@apple.com', 'LA')\n",
    "\n",
    "employee_1.get_info()\n",
    "employee_2.get_info()"
   ]
  },
  {
   "cell_type": "markdown",
   "id": "fda1bf29",
   "metadata": {},
   "source": [
    "### **- 07. Types of Inheritance**"
   ]
  },
  {
   "cell_type": "markdown",
   "id": "af797dee",
   "metadata": {},
   "source": [
    "1. **Implement Single Inheritance**:\n",
    "   - Create a base class named `Person` with attributes `name` and `age` and a method `introduce_self()` that prints out a greeting containing the person's name and age.\n",
    "   - Create a subclass named `UniversityMember` that inherits from `Person`. Add an attribute `university_name` and override the `introduce_self()` method to include the university name in the greeting."
   ]
  },
  {
   "cell_type": "code",
   "execution_count": 15,
   "id": "1d91597f",
   "metadata": {},
   "outputs": [],
   "source": [
    "class Person():\n",
    "    def __init__(self, name, age) -> None:\n",
    "        self.name = name\n",
    "        self.age = age\n",
    "\n",
    "    def introduce_self(self):\n",
    "        print(f\"Hi, I'm {self.name} and {self.age} years old.\")\n",
    "\n",
    "class UniversityMember(Person):\n",
    "    def __init__(self, name, age, university_name) -> None:\n",
    "        super().__init__(name, age)\n",
    "        self.university_name = university_name\n",
    "\n",
    "    def introduce_self(self):\n",
    "        super().introduce_self()\n",
    "        print(f\"I'm a member of {self.university_name}\")"
   ]
  },
  {
   "cell_type": "markdown",
   "id": "755bb071",
   "metadata": {},
   "source": [
    "2. **Implement Multilevel Inheritance**:\n",
    "   - Create two subclasses of `UniversityMember`: `Student` and `Instructor`. For `Student`, add an attribute `student_id`, and for `Instructor`, add an attribute `employee_id`.\n",
    "   - Override the `introduce_self()` method in each subclass to include their respective ID along with the inherited attributes."
   ]
  },
  {
   "cell_type": "code",
   "execution_count": 16,
   "id": "a12f82c4",
   "metadata": {},
   "outputs": [],
   "source": [
    "class Student(UniversityMember):\n",
    "    def __init__(self, name, age, university_name, student_id) -> None:\n",
    "        super().__init__(name, age, university_name)\n",
    "        self.student_id = student_id\n",
    "\n",
    "    def introduce_self(self):\n",
    "        super().introduce_self()\n",
    "        print(f\"I'm a student; ID: {self.student_id}\")\n",
    "\n",
    "class Instructor(UniversityMember):\n",
    "    def __init__(self, name, age, university_name, employee_id) -> None:\n",
    "        super().__init__(name, age, university_name)\n",
    "        self.employee_id = employee_id\n",
    "\n",
    "    def introduce_self(self):\n",
    "        super().introduce_self()\n",
    "        print(f\"I'm a instuctor; ID: {self.employee_id}\")"
   ]
  },
  {
   "cell_type": "markdown",
   "id": "4572a867",
   "metadata": {},
   "source": [
    "3. **Implement Hierarchical Inheritance**:\n",
    "   - Demonstrate hierarchical inheritance by showing how `Student` and `Instructor` classes inherit from the same parent (`UniversityMember`) but represent different entities.\n",
    "   - Instantiate objects of `Student` and `Instructor`, set their attributes, and call their `introduce_self()` methods to see the different outputs."
   ]
  },
  {
   "cell_type": "code",
   "execution_count": 17,
   "id": "9c1ac79a",
   "metadata": {},
   "outputs": [
    {
     "name": "stdout",
     "output_type": "stream",
     "text": [
      "Hi, I'm Donald and 23 years old.\n",
      "I'm a member of UCLA\n",
      "I'm a student; ID: 12340\n",
      "Hi, I'm Walter and 45 years old.\n",
      "I'm a member of UoT\n",
      "I'm a instuctor; ID: 41523\n"
     ]
    }
   ],
   "source": [
    "student_1 = Student('Donald', '23', 'UCLA', '12340')\n",
    "Instructor_1 = Instructor('Walter', '45', 'UoT', '41523')\n",
    "\n",
    "student_1.introduce_self()\n",
    "Instructor_1.introduce_self()"
   ]
  },
  {
   "cell_type": "markdown",
   "id": "8476783c",
   "metadata": {},
   "source": [
    "### **- 08. Object Relationships**"
   ]
  },
  {
   "cell_type": "markdown",
   "id": "36d9e989",
   "metadata": {},
   "source": [
    "**Scenario:**\n",
    "You are tasked with developing a small system for a zoo that simulates the relationships between different entities in the zoo. Here are the elements you'll need to work with:\n",
    "\n",
    "- **Zookeepers** who care for the animals.\n",
    "- **Animals** of different species.\n",
    "- **Habitats** where animals live.\n",
    "- **Tools** that zookeepers use to care for animals.\n"
   ]
  },
  {
   "cell_type": "code",
   "execution_count": 18,
   "id": "4afe4b4a",
   "metadata": {},
   "outputs": [],
   "source": [
    "class Zoo():\n",
    "    def __init__(self, name) -> None:\n",
    "        self.name = name\n",
    "        self.zookeepers = []\n",
    "        self.tools = []\n",
    "        self.habitats = []\n",
    "        self.animals = []\n",
    "        pass\n",
    "\n",
    "    def AssignZookeeper(self, zookeeper):\n",
    "        self.zookeepers.append(zookeeper)\n",
    "    \n",
    "    def AssignHabitat(self, habitat):\n",
    "        self.habitats.append(habitat)\n",
    "\n",
    "    def AssignTool(self, tool):\n",
    "        self.tools.append(tool)\n",
    "\n",
    "    def AssignAnimal(self, animal):\n",
    "        self.animals.append(animal)\n",
    "    \n",
    "    def __del__(self):\n",
    "        del self.habitats"
   ]
  },
  {
   "cell_type": "code",
   "execution_count": 19,
   "id": "620e09de",
   "metadata": {},
   "outputs": [],
   "source": [
    "zoo_1 = Zoo('Pytopia')"
   ]
  },
  {
   "cell_type": "markdown",
   "id": "3a73436c",
   "metadata": {},
   "source": [
    "**Tasks:**\n",
    "\n",
    "1. **Association: Zookeeper and Tools**\n",
    "   - Model the relationship between a Zookeeper and their Tools (e.g., broom, food bucket). \n",
    "   - Demonstrate how a zookeeper can use different tools, but tools can be used by different zookeepers as well."
   ]
  },
  {
   "cell_type": "code",
   "execution_count": 20,
   "id": "0c12799a",
   "metadata": {},
   "outputs": [],
   "source": [
    "class Tool():\n",
    "    def __init__(self, kind, id, zoo: Zoo) -> None:\n",
    "        self.kind = kind\n",
    "        self.id = id\n",
    "        self.zoo = zoo\n",
    "        Zoo.AssignTool(zoo, self)\n",
    "\n",
    "class Zookeeper():\n",
    "    def __init__(self, name, zoo: Zoo) -> None:\n",
    "        self.name = name\n",
    "        self.zoo = zoo\n",
    "        Zoo.AssignZookeeper(zoo, self)\n",
    "\n",
    "    def UseTool(self, tool: Tool):\n",
    "        print(f\"{self.name} is using {tool.kind} - ID: {tool.id}\")\n",
    "    "
   ]
  },
  {
   "cell_type": "code",
   "execution_count": 21,
   "id": "11a03537",
   "metadata": {},
   "outputs": [
    {
     "name": "stdout",
     "output_type": "stream",
     "text": [
      "John is using Shovel - ID: 001\n",
      "Hatson is using Shovel - ID: 001\n",
      "John is using Saw - ID: 001\n"
     ]
    }
   ],
   "source": [
    "zookeeper_1 = Zookeeper('John', zoo_1)\n",
    "zookeeper_2 = Zookeeper('Hatson', zoo_1)\n",
    "tool_1 = Tool('Shovel', '001', zoo_1)\n",
    "tool_2 = Tool('Saw', '001', zoo_1)\n",
    "\n",
    "zookeeper_1.UseTool(tool_1)\n",
    "zookeeper_2.UseTool(tool_1)\n",
    "zookeeper_1.UseTool(tool_2)"
   ]
  },
  {
   "cell_type": "markdown",
   "id": "05956e35",
   "metadata": {},
   "source": [
    "2. **Aggregation: Habitat and Animals**\n",
    "   - Implement the \"Whole-Part\" relationship between a Habitat and the Animals that live in it.\n",
    "   - Show how animals can be moved between habitats without being tightly coupled to a specific habitat.|"
   ]
  },
  {
   "cell_type": "code",
   "execution_count": 22,
   "id": "ced82e55",
   "metadata": {},
   "outputs": [],
   "source": [
    "class Habitat():\n",
    "    def __init__(self, name, zoo: Zoo) -> None:\n",
    "        self.animals = []\n",
    "        self.name = name\n",
    "        self.zoo = zoo\n",
    "        zoo.AssignHabitat(self)\n",
    "    \n",
    "    def AddAnimal(self, animal):\n",
    "        self.animals.append(animal)\n",
    "\n",
    "    def RemoveAnimal(self, animal):\n",
    "        self.animals.remove(animal)\n",
    "\n",
    "    def ListAnimals(self):\n",
    "        print(f\"The {self.name} hosts:\")\n",
    "        print(f\"{animal.name} - {animal.kind}\" for animal in self.animals)\n",
    "\n",
    "class Animal():\n",
    "    def __init__(self, name, kind, zoo: Zoo, habitat: Habitat) -> None:\n",
    "        self.name = name\n",
    "        self.kind = kind\n",
    "        self.zoo = zoo\n",
    "        zoo.AssignAnimal(self)\n",
    "        self.habitat = habitat\n",
    "        habitat.AddAnimal(self)\n",
    "\n",
    "    def MoveAnimal(self, new_habitat: Habitat):\n",
    "        self.habitat.RemoveAnimal(self)\n",
    "        self.habitat = new_habitat\n",
    "        new_habitat.AddAnimal(self)\n",
    "\n",
    "    def ShowHabitat(self):\n",
    "        print(f\"{self.name} - {self.kind} lives in {self.habitat.name}\")"
   ]
  },
  {
   "cell_type": "code",
   "execution_count": 23,
   "id": "25668db7",
   "metadata": {},
   "outputs": [
    {
     "name": "stdout",
     "output_type": "stream",
     "text": [
      "Koko - Bear lives in Jungle\n",
      "Brok - Camel lives in Desert\n",
      "Brok - Camel lives in Jungle\n"
     ]
    }
   ],
   "source": [
    "habitat_1 = Habitat('Desert', zoo_1)\n",
    "habitat_2 = Habitat('Jungle', zoo_1)\n",
    "\n",
    "animal_1 = Animal('Koko', 'Bear', zoo_1, habitat_2)\n",
    "animal_2 = Animal('Brok', 'Camel', zoo_1, habitat_1)\n",
    "\n",
    "animal_1.ShowHabitat()\n",
    "animal_2.ShowHabitat()\n",
    "\n",
    "animal_2.MoveAnimal(habitat_2)\n",
    "\n",
    "animal_2.ShowHabitat()"
   ]
  },
  {
   "cell_type": "markdown",
   "id": "1fc581c9",
   "metadata": {},
   "source": [
    "3. **Composition: Zoo and Habitats**\n",
    "   - Design the strong \"Whole-Part\" relationship between the Zoo and its Habitats.\n",
    "   - Ensure that when a Zoo is shut down, all associated Habitat objects are also removed."
   ]
  },
  {
   "cell_type": "code",
   "execution_count": 24,
   "id": "a34fa135",
   "metadata": {},
   "outputs": [],
   "source": [
    "zoo_2 = Zoo('Eram')\n",
    "habitat_3 = Habitat('Forest', zoo_2)\n",
    "\n",
    "del zoo_2"
   ]
  },
  {
   "cell_type": "markdown",
   "id": "ced3b6c2",
   "metadata": {},
   "source": [
    "4. **Inheritance: Species and Animals**\n",
    "   - Use inheritance to model the relationship between different species (e.g., Lion, Penguin) and the base class Animal.\n",
    "   - Implement common behaviors in the Animal class and specific behaviors in the derived species classes."
   ]
  },
  {
   "cell_type": "code",
   "execution_count": 25,
   "id": "edf1afc4",
   "metadata": {},
   "outputs": [],
   "source": [
    "class Lion(Animal):\n",
    "    def roar(self):\n",
    "        print(f\"{self.name} roared\")\n",
    "\n",
    "class Penguin(Animal):\n",
    "    def swim(self):\n",
    "        print(f\"{self.name} is swimmning\")"
   ]
  },
  {
   "cell_type": "markdown",
   "id": "229150ea",
   "metadata": {},
   "source": [
    "5. **Practical Application: Decision Making**\n",
    "   - Given a new feature \"Veterinary Care Records,\" decide whether it should be implemented using association, aggregation, composition, or inheritance with respect to the Animals or Zookeeper class.\n",
    "   - Justify your decision.\n"
   ]
  },
  {
   "cell_type": "code",
   "execution_count": 26,
   "id": "b562bc08",
   "metadata": {},
   "outputs": [],
   "source": [
    "# It should be used in a aggregation relationship with an animal,\n",
    "# and in an association relationship with a zookeeper\n",
    "class VeterinaryCareRecord:\n",
    "    def __init__(self, animal: Animal):\n",
    "        self.records = []\n",
    "        self.animal = animal\n",
    "    \n",
    "    def AddRecord(self, zookeeper: Zookeeper, description):\n",
    "        self.records.append(f'{zookeeper.name} - {description}')\n",
    "    \n",
    "    def ShowRecords(self):\n",
    "        if not self.records:\n",
    "            print('No Records')\n",
    "        else:\n",
    "            print(f'{self.animal.name} ({self.animal.kind}) records:')\n",
    "            for record in self.records:\n",
    "                print(record)"
   ]
  },
  {
   "cell_type": "code",
   "execution_count": 27,
   "id": "10e57fc8",
   "metadata": {},
   "outputs": [
    {
     "name": "stdout",
     "output_type": "stream",
     "text": [
      "No Records\n",
      "Leo (Lion) records:\n",
      "John - Vaccinated\n"
     ]
    }
   ],
   "source": [
    "animal_3 = Lion('Leo', 'Lion', zoo_1, habitat_2)\n",
    "animal_3_vet_records = VeterinaryCareRecord(animal_3)\n",
    "animal_3_vet_records.ShowRecords()\n",
    "animal_3_vet_records.AddRecord(zookeeper_1, 'Vaccinated')\n",
    "animal_3_vet_records.ShowRecords()"
   ]
  },
  {
   "cell_type": "markdown",
   "id": "2a42b5b8",
   "metadata": {},
   "source": [
    "### **- 09. OOP Feature: Polymorphism**"
   ]
  },
  {
   "cell_type": "markdown",
   "id": "a1979cd7",
   "metadata": {},
   "source": [
    "1. **Implement a Superclass and Subclasses**:\n",
    "   - Create a superclass called `Document` with a method `display()`. This method should simply print \"Displaying a document.\" as a placeholder.\n",
    "   - Create three subclasses of `Document`: `PDF`, `Word`, and `Spreadsheet`. Each subclass should override the `display()` method with a print statement specific to the document type (e.g., \"Displaying PDF document.\")."
   ]
  },
  {
   "cell_type": "code",
   "execution_count": 28,
   "id": "2b7355db",
   "metadata": {},
   "outputs": [],
   "source": [
    "class Document():\n",
    "    def display(self):\n",
    "        print('Displaying a document')\n",
    "\n",
    "class PDF(Document):\n",
    "    def display(self):\n",
    "        print('Displaying a PDF')\n",
    "\n",
    "class Word(Document):\n",
    "    def display(self):\n",
    "        print('Displaying a Word')\n",
    "\n",
    "class Spreadsheet(Document):\n",
    "    def display(self):\n",
    "        print('Displaying a Spreadsheet')"
   ]
  },
  {
   "cell_type": "markdown",
   "id": "8ddf9602",
   "metadata": {},
   "source": [
    "2. **Demonstrate Polymorphism**:\n",
    "   - Create a function called `display_document` that takes a `Document` object as a parameter and calls its `display()` method.\n",
    "   - Instantiate objects of `PDF`, `Word`, and `Spreadsheet` classes and store them in a list.\n",
    "   - Loop through the list and pass each document object to the `display_document` function to demonstrate polymorphism."
   ]
  },
  {
   "cell_type": "code",
   "execution_count": 29,
   "id": "cb994959",
   "metadata": {},
   "outputs": [
    {
     "name": "stdout",
     "output_type": "stream",
     "text": [
      "Displaying a document\n",
      "Displaying a PDF\n",
      "Displaying a Word\n",
      "Displaying a Spreadsheet\n"
     ]
    }
   ],
   "source": [
    "def display_document(document: Document):\n",
    "    document.display()\n",
    "\n",
    "for item in [Document(), PDF(), Word(), Spreadsheet()]:\n",
    "    display_document(item)"
   ]
  },
  {
   "cell_type": "markdown",
   "id": "9e0b62d2",
   "metadata": {},
   "source": [
    "\n",
    "3. **Explore Dynamic Typing**:\n",
    "   - Write a function called `change_document_type` that takes a `Document` object and a new class type (e.g., `PDF`, `Word`, or `Spreadsheet`) and returns a new instance of the specified class type.\n",
    "   - Create an instance of one document type and then use `change_document_type` to create a new instance of a different type. Use `display()` to show that the document has changed type."
   ]
  },
  {
   "cell_type": "code",
   "execution_count": 30,
   "id": "c4ff2059",
   "metadata": {},
   "outputs": [
    {
     "name": "stdout",
     "output_type": "stream",
     "text": [
      "Displaying a PDF\n"
     ]
    }
   ],
   "source": [
    "def change_document_type(document: Document, new_class):\n",
    "    return new_class()\n",
    "\n",
    "doc_1 = Word()\n",
    "doc_1 = change_document_type(doc_1, PDF)\n",
    "doc_1.display()"
   ]
  },
  {
   "cell_type": "markdown",
   "id": "c75e6918",
   "metadata": {},
   "source": [
    "### **10. OOP Feature: Encapsulation:** A Simple Class Example: A Blog Post System\n"
   ]
  },
  {
   "cell_type": "markdown",
   "id": "f0821b99",
   "metadata": {},
   "source": [
    "Consider a class `BlogPost` that represents a blog post in a content management system. It includes attributes for the post's title, content, and status (published or draft), along with methods to edit the content and publish the post.\n"
   ]
  },
  {
   "cell_type": "code",
   "execution_count": 31,
   "id": "7457bae7",
   "metadata": {},
   "outputs": [],
   "source": [
    "class Author:\n",
    "    def __init__(self, name):\n",
    "        self.__name = name\n",
    "    \n",
    "    def show_name(self):\n",
    "        return self.__name\n",
    "    \n",
    "    def change_name(self, name):\n",
    "        self.__name = name\n",
    "\n",
    "class BlogPost:\n",
    "    def __init__(self, author, title, content, status):\n",
    "        self.__title = title\n",
    "        self.__author = author\n",
    "        self.__content = content\n",
    "        self.__status = status\n",
    "\n",
    "    def change_title(self, title):\n",
    "        self.__title = title\n",
    "\n",
    "    def chagne_content(self, content):\n",
    "        self.__content = content\n",
    "\n",
    "    def change_status(self, status):\n",
    "        self.__status = status\n",
    "\n",
    "    def show_title(self):\n",
    "        return self.__title\n",
    "\n",
    "    def show_content(self):\n",
    "        return self.__content\n",
    "\n",
    "    def show_status(self):\n",
    "        return self.__status\n",
    "\n",
    "\n",
    "class Blog:\n",
    "    def __init__(self, name):\n",
    "        self.__name = name\n",
    "        self.__authors = []\n",
    "        self.__posts = []\n",
    "    \n",
    "    def change_blog_name(self, name):\n",
    "        self.__name = name\n",
    "    \n",
    "    def add_author(self, name):\n",
    "        self.__authors.append(Author(name))\n",
    "   \n",
    "    def draft_a_post(self):\n",
    "        selected_author = self.__select_author()\n",
    "        if selected_author == -1:\n",
    "            return\n",
    "        else:\n",
    "            author = self.__authors[selected_author]\n",
    "        \n",
    "        title = input(\"Enter the title: \")\n",
    "        print(f'The title: {title}')\n",
    "        content = input(\"Enter the content: \")\n",
    "        print(f'The content: {content}')\n",
    "        \n",
    "        self.__posts.append(BlogPost(author, title, content, 'DRAFT'))\n",
    "        \n",
    "    def __select_author(self):\n",
    "        if(self.__authors):\n",
    "            print('Select author:')\n",
    "            for index, author in enumerate(self.__authors):\n",
    "                print(f'{index + 1}. {author.show_name()}')\n",
    "            return int(input()) - 1\n",
    "        else:\n",
    "            print('No author')\n",
    "            return -1\n",
    "        \n",
    "    def try_publish(self):\n",
    "        selected_post = self.__select_draft_post()\n",
    "        if selected_post == -1:\n",
    "            return\n",
    "        else:\n",
    "            post = self.__posts[selected_post]\n",
    "        \n",
    "        if(len(post.show_content()) > 200):\n",
    "            post.change_status('PUBLISHED')\n",
    "        else:\n",
    "            print('The post is too short!')\n",
    "\n",
    "    def change_post_content(self):\n",
    "        selected_post = self.__select_post()\n",
    "        if selected_post == -1:\n",
    "            return\n",
    "        else:\n",
    "            post = self.__posts[selected_post]\n",
    "        \n",
    "        post.chagne_content(input(\"Enter new content: \"))\n",
    "        print(f'The new content: {post.show_content()}')\n",
    "\n",
    "    def __select_post(self):\n",
    "        if(self.__posts):\n",
    "            print('Select post:')\n",
    "            for index, post in enumerate(self.__posts):\n",
    "                print(f'{index + 1}. {post.show_title()}')\n",
    "            return int(input()) - 1\n",
    "        else:\n",
    "            print('No posts')\n",
    "            return -1\n",
    "    \n",
    "    def __select_draft_post(self):\n",
    "        if(self.__posts):\n",
    "            print('Select post:')\n",
    "            for index, post in enumerate(self.__posts):\n",
    "                if post.show_status() == 'DRAFT':\n",
    "                    print(f'{index + 1}. {post.show_title()}')\n",
    "            return int(input()) - 1\n",
    "        else:\n",
    "            print('No posts')\n",
    "            return -1\n",
    "    \n"
   ]
  },
  {
   "cell_type": "code",
   "execution_count": 32,
   "id": "1ea7ee25",
   "metadata": {},
   "outputs": [
    {
     "name": "stdout",
     "output_type": "stream",
     "text": [
      "No author\n"
     ]
    }
   ],
   "source": [
    "blog_1 = Blog('PythoBlog')\n",
    "blog_1.draft_a_post()"
   ]
  },
  {
   "cell_type": "code",
   "execution_count": 33,
   "id": "41b3b428",
   "metadata": {},
   "outputs": [],
   "source": [
    "blog_1.add_author('John Doe')\n",
    "blog_1.add_author('Mary Jane')"
   ]
  },
  {
   "cell_type": "code",
   "execution_count": 34,
   "id": "96ef82ea",
   "metadata": {},
   "outputs": [
    {
     "name": "stdout",
     "output_type": "stream",
     "text": [
      "Select author:\n",
      "1. John Doe\n",
      "2. Mary Jane\n",
      "The title: Hello, World!\n",
      "The content: This is a sample text!\n"
     ]
    }
   ],
   "source": [
    "blog_1.draft_a_post()"
   ]
  },
  {
   "cell_type": "code",
   "execution_count": 35,
   "id": "2447fa7c",
   "metadata": {},
   "outputs": [
    {
     "name": "stdout",
     "output_type": "stream",
     "text": [
      "Select post:\n",
      "1. Hello, World!\n",
      "The post is too short!\n"
     ]
    }
   ],
   "source": [
    "blog_1.try_publish()"
   ]
  },
  {
   "cell_type": "code",
   "execution_count": 45,
   "id": "9b3d5fcd",
   "metadata": {},
   "outputs": [
    {
     "name": "stdout",
     "output_type": "stream",
     "text": [
      "Select post:\n",
      "1. Hello, World!\n",
      "The new content: The new content: This is a longer text for the post, AWWWWWWWWWWWWWWWWWWWWWWWWWWWWWWWWWWWWWWWWWWWWWWWWWWWWWWWWWWW!!!!!!!!!!!!!!!!!!!!!!!\\n Still not enough? AWWWWWWWWWWWWWWWWWWWWWWWWWWWWW!!!!!!!!!!!!!!!!!!!! GOD PLEASE STOP!!!!!!!!!!!!!!!1\n"
     ]
    }
   ],
   "source": [
    "blog_1.change_post_content()"
   ]
  },
  {
   "cell_type": "code",
   "execution_count": 46,
   "id": "4c776167",
   "metadata": {},
   "outputs": [
    {
     "name": "stdout",
     "output_type": "stream",
     "text": [
      "Select post:\n",
      "1. Hello, World!\n"
     ]
    }
   ],
   "source": [
    "blog_1.try_publish()"
   ]
  }
 ],
 "metadata": {
  "kernelspec": {
   "display_name": "temp",
   "language": "python",
   "name": "python3"
  },
  "language_info": {
   "codemirror_mode": {
    "name": "ipython",
    "version": 3
   },
   "file_extension": ".py",
   "mimetype": "text/x-python",
   "name": "python",
   "nbconvert_exporter": "python",
   "pygments_lexer": "ipython3",
   "version": "3.12.11"
  }
 },
 "nbformat": 4,
 "nbformat_minor": 5
}
